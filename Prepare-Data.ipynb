{
 "cells": [
  {
   "cell_type": "code",
   "execution_count": 1,
   "metadata": {},
   "outputs": [],
   "source": [
    "import pandas as pd\n",
    "import numpy as np"
   ]
  },
  {
   "cell_type": "markdown",
   "metadata": {},
   "source": [
    "# Load Dataset\n"
   ]
  },
  {
   "cell_type": "code",
   "execution_count": 2,
   "metadata": {},
   "outputs": [],
   "source": [
    "def read_file(path):\n",
    "    payload = []\n",
    "    with open(path,'r',encoding='utf8') as f:\n",
    "        for line in f:\n",
    "            payload.append(line[:-1]) #remove '\\n'\n",
    "    return np.array(payload)"
   ]
  },
  {
   "cell_type": "markdown",
   "metadata": {},
   "source": [
    "### Bad queries payloads"
   ]
  },
  {
   "cell_type": "code",
   "execution_count": 3,
   "metadata": {},
   "outputs": [],
   "source": [
    "df_badQueries = pd.DataFrame(columns = ['payload','is_malicious'])\n",
    "df_badQueries['payload'] = read_file('./badqueries.txt')\n",
    "df_badQueries['is_malicious'] = 1 "
   ]
  },
  {
   "cell_type": "code",
   "execution_count": 4,
   "metadata": {},
   "outputs": [
    {
     "data": {
      "text/html": [
       "<div>\n",
       "<style scoped>\n",
       "    .dataframe tbody tr th:only-of-type {\n",
       "        vertical-align: middle;\n",
       "    }\n",
       "\n",
       "    .dataframe tbody tr th {\n",
       "        vertical-align: top;\n",
       "    }\n",
       "\n",
       "    .dataframe thead th {\n",
       "        text-align: right;\n",
       "    }\n",
       "</style>\n",
       "<table border=\"1\" class=\"dataframe\">\n",
       "  <thead>\n",
       "    <tr style=\"text-align: right;\">\n",
       "      <th></th>\n",
       "      <th>payload</th>\n",
       "      <th>is_malicious</th>\n",
       "    </tr>\n",
       "  </thead>\n",
       "  <tbody>\n",
       "    <tr>\n",
       "      <th>48116</th>\n",
       "      <td>&lt;script&gt;eval(location.hash.slice(1)&lt;/script&gt;</td>\n",
       "      <td>1</td>\n",
       "    </tr>\n",
       "    <tr>\n",
       "      <th>48117</th>\n",
       "      <td>&lt;base href=data:/,-alert(1)/&gt;</td>\n",
       "      <td>1</td>\n",
       "    </tr>\n",
       "    <tr>\n",
       "      <th>48118</th>\n",
       "      <td>&lt;svg&gt;&lt;set href=#script attributeName=href to=d...</td>\n",
       "      <td>1</td>\n",
       "    </tr>\n",
       "    <tr>\n",
       "      <th>48119</th>\n",
       "      <td>“/&gt;.&lt;&lt;img src=x onerror=alert(1)//\\\"&amp;gt;&gt;&amp;lt;&amp;gt</td>\n",
       "      <td>1</td>\n",
       "    </tr>\n",
       "    <tr>\n",
       "      <th>48120</th>\n",
       "      <td>“&gt;&gt;&lt;&lt;img src=x onerror=alert(1);//&gt;&gt;;</td>\n",
       "      <td>1</td>\n",
       "    </tr>\n",
       "    <tr>\n",
       "      <th>48121</th>\n",
       "      <td>\"text &lt;/script&gt;&lt;script&gt;alert(1)&lt;/script&gt;\"</td>\n",
       "      <td>1</td>\n",
       "    </tr>\n",
       "    <tr>\n",
       "      <th>48122</th>\n",
       "      <td>&lt;marquee loop=1 width=0 onfinish=1/confirm`/1/...</td>\n",
       "      <td>1</td>\n",
       "    </tr>\n",
       "    <tr>\n",
       "      <th>48123</th>\n",
       "      <td>&lt;marquee loop=1 width=0 onfinish=confirm(1)&gt;0&lt;...</td>\n",
       "      <td>1</td>\n",
       "    </tr>\n",
       "    <tr>\n",
       "      <th>48124</th>\n",
       "      <td>&lt;abeon style=font-size:12px onmouseover=confir...</td>\n",
       "      <td>1</td>\n",
       "    </tr>\n",
       "    <tr>\n",
       "      <th>48125</th>\n",
       "      <td>&lt;svg onload=location='//p0.al'&gt;</td>\n",
       "      <td>1</td>\n",
       "    </tr>\n",
       "  </tbody>\n",
       "</table>\n",
       "</div>"
      ],
      "text/plain": [
       "                                                 payload  is_malicious\n",
       "48116       <script>eval(location.hash.slice(1)</script>             1\n",
       "48117                      <base href=data:/,-alert(1)/>             1\n",
       "48118  <svg><set href=#script attributeName=href to=d...             1\n",
       "48119   “/>.<<img src=x onerror=alert(1)//\\\"&gt;>&lt;&gt             1\n",
       "48120              “>><<img src=x onerror=alert(1);//>>;             1\n",
       "48121          \"text </script><script>alert(1)</script>\"             1\n",
       "48122  <marquee loop=1 width=0 onfinish=1/confirm`/1/...             1\n",
       "48123  <marquee loop=1 width=0 onfinish=confirm(1)>0<...             1\n",
       "48124  <abeon style=font-size:12px onmouseover=confir...             1\n",
       "48125                    <svg onload=location='//p0.al'>             1"
      ]
     },
     "execution_count": 4,
     "metadata": {},
     "output_type": "execute_result"
    }
   ],
   "source": [
    "df_badQueries.tail(10)"
   ]
  },
  {
   "cell_type": "markdown",
   "metadata": {},
   "source": [
    "### Good queries payloads"
   ]
  },
  {
   "cell_type": "code",
   "execution_count": 5,
   "metadata": {},
   "outputs": [],
   "source": [
    "df_goodQueries = pd.DataFrame(columns = ['payload','is_malicious'])\n",
    "df_goodQueries['payload'] = read_file('./goodqueries.txt')\n",
    "df_goodQueries['is_malicious'] = 0"
   ]
  },
  {
   "cell_type": "code",
   "execution_count": 6,
   "metadata": {},
   "outputs": [
    {
     "data": {
      "text/html": [
       "<div>\n",
       "<style scoped>\n",
       "    .dataframe tbody tr th:only-of-type {\n",
       "        vertical-align: middle;\n",
       "    }\n",
       "\n",
       "    .dataframe tbody tr th {\n",
       "        vertical-align: top;\n",
       "    }\n",
       "\n",
       "    .dataframe thead th {\n",
       "        text-align: right;\n",
       "    }\n",
       "</style>\n",
       "<table border=\"1\" class=\"dataframe\">\n",
       "  <thead>\n",
       "    <tr style=\"text-align: right;\">\n",
       "      <th></th>\n",
       "      <th>payload</th>\n",
       "      <th>is_malicious</th>\n",
       "    </tr>\n",
       "  </thead>\n",
       "  <tbody>\n",
       "    <tr>\n",
       "      <th>1294521</th>\n",
       "      <td>/marrying_gifts/</td>\n",
       "      <td>0</td>\n",
       "    </tr>\n",
       "    <tr>\n",
       "      <th>1294522</th>\n",
       "      <td>/mir_download/</td>\n",
       "      <td>0</td>\n",
       "    </tr>\n",
       "    <tr>\n",
       "      <th>1294523</th>\n",
       "      <td>/20050308145407/</td>\n",
       "      <td>0</td>\n",
       "    </tr>\n",
       "    <tr>\n",
       "      <th>1294524</th>\n",
       "      <td>/javascript/migrated.html</td>\n",
       "      <td>0</td>\n",
       "    </tr>\n",
       "    <tr>\n",
       "      <th>1294525</th>\n",
       "      <td>/ms06-054/</td>\n",
       "      <td>0</td>\n",
       "    </tr>\n",
       "    <tr>\n",
       "      <th>1294526</th>\n",
       "      <td>/197573/</td>\n",
       "      <td>0</td>\n",
       "    </tr>\n",
       "    <tr>\n",
       "      <th>1294527</th>\n",
       "      <td>/javascript/management.php</td>\n",
       "      <td>0</td>\n",
       "    </tr>\n",
       "    <tr>\n",
       "      <th>1294528</th>\n",
       "      <td>/javascript/minute.csproj</td>\n",
       "      <td>0</td>\n",
       "    </tr>\n",
       "    <tr>\n",
       "      <th>1294529</th>\n",
       "      <td>/tex-lg/</td>\n",
       "      <td>0</td>\n",
       "    </tr>\n",
       "    <tr>\n",
       "      <th>1294530</th>\n",
       "      <td>/javascript/42.tar.gz</td>\n",
       "      <td>0</td>\n",
       "    </tr>\n",
       "  </tbody>\n",
       "</table>\n",
       "</div>"
      ],
      "text/plain": [
       "                            payload  is_malicious\n",
       "1294521            /marrying_gifts/             0\n",
       "1294522              /mir_download/             0\n",
       "1294523            /20050308145407/             0\n",
       "1294524   /javascript/migrated.html             0\n",
       "1294525                  /ms06-054/             0\n",
       "1294526                    /197573/             0\n",
       "1294527  /javascript/management.php             0\n",
       "1294528   /javascript/minute.csproj             0\n",
       "1294529                    /tex-lg/             0\n",
       "1294530       /javascript/42.tar.gz             0"
      ]
     },
     "execution_count": 6,
     "metadata": {},
     "output_type": "execute_result"
    }
   ],
   "source": [
    "df_goodQueries.tail(10)"
   ]
  },
  {
   "cell_type": "code",
   "execution_count": 7,
   "metadata": {},
   "outputs": [
    {
     "data": {
      "text/plain": [
       "1342657"
      ]
     },
     "execution_count": 7,
     "metadata": {},
     "output_type": "execute_result"
    }
   ],
   "source": [
    "# Total amount of entries\n",
    "len(df_badQueries) + len(df_goodQueries)"
   ]
  },
  {
   "cell_type": "code",
   "execution_count": 24,
   "metadata": {},
   "outputs": [],
   "source": [
    "df_badQueries.to_csv('badQueriesCSV.csv', sep=',', encoding='utf-8')\n",
    "df_goodQueries.to_csv('goodQueriesCSV.csv', sep=',', encoding='utf-8')"
   ]
  },
  {
   "cell_type": "markdown",
   "metadata": {},
   "source": [
    "# Creating s3 bucket using boto3\n",
    "    Bucket name: queries-dataset"
   ]
  },
  {
   "cell_type": "code",
   "execution_count": 8,
   "metadata": {},
   "outputs": [],
   "source": [
    "import boto3\n",
    "from botocore.exceptions import ClientError\n",
    "\n",
    "BUCKET_NAME = 'queries-dataset'\n",
    "S3_RESOURCE = 's3'"
   ]
  },
  {
   "cell_type": "code",
   "execution_count": 9,
   "metadata": {},
   "outputs": [],
   "source": [
    "\n",
    "def create_bucket(bucket_name):\n",
    "    # Create an S3 bucket, the bucket is created in the S3 default region. \n",
    "    try:\n",
    "            s3_client = boto3.client(S3_RESOURCE)\n",
    "            s3_client.create_bucket(Bucket=bucket_name)\n",
    "    except ClientError as e:\n",
    "        print(e)\n",
    "        print(f'{bucket_name} wasn\\'t created')\n",
    "        return\n",
    "    print(f'{bucket_name} was created')\n",
    "    \n",
    "\n",
    "def show_existing_buckets():\n",
    "    # Retrieve the list of existing buckets check the bucket name queries-dataset is exists\n",
    "    s3 = boto3.client(S3_RESOURCE)\n",
    "    response = s3.list_buckets()\n",
    "\n",
    "    # Output the bucket names\n",
    "    print('Existing buckets:')\n",
    "    for bucket in response['Buckets']:\n",
    "        print(f'{bucket[\"Name\"]}')\n",
    "    "
   ]
  },
  {
   "cell_type": "code",
   "execution_count": 10,
   "metadata": {
    "scrolled": true
   },
   "outputs": [
    {
     "name": "stdout",
     "output_type": "stream",
     "text": [
      "queries-dataset was created\n",
      "Existing buckets:\n",
      "  queries-dataset\n"
     ]
    }
   ],
   "source": [
    "create_bucket(BUCKET_NAME)\n",
    "show_existing_buckets()"
   ]
  },
  {
   "cell_type": "markdown",
   "metadata": {},
   "source": [
    "# Upload Dataset"
   ]
  },
  {
   "cell_type": "code",
   "execution_count": 13,
   "metadata": {},
   "outputs": [],
   "source": [
    "def upload_file(file_name, bucket, object_name=None):\n",
    "\n",
    "    # If S3 object_name was not specified, use file_name\n",
    "    if object_name is None:\n",
    "        object_name = file_name\n",
    "\n",
    "    # Upload the file\n",
    "    s3_client = boto3.client(S3_RESOURCE)\n",
    "    try:\n",
    "        response = s3_client.upload_file(file_name, bucket, object_name)\n",
    "    except ClientError as e:\n",
    "        print(e)\n",
    "        print(f'{file_name} failed to upload object')\n",
    "        return\n",
    "    \n",
    "    print(f'{file_name} uploaded succesfully')\n"
   ]
  },
  {
   "cell_type": "code",
   "execution_count": 17,
   "metadata": {},
   "outputs": [
    {
     "name": "stdout",
     "output_type": "stream",
     "text": [
      "badqueries.txt uploaded succesfully\n",
      "goodqueries.txt uploaded succesfully\n"
     ]
    }
   ],
   "source": [
    "upload_file('badqueries.txt',BUCKET_NAME)\n",
    "upload_file('goodqueries.txt',BUCKET_NAME)"
   ]
  },
  {
   "cell_type": "code",
   "execution_count": 25,
   "metadata": {},
   "outputs": [
    {
     "name": "stdout",
     "output_type": "stream",
     "text": [
      "badQueriesCSV.csv uploaded succesfully\n",
      "goodQueriesCSV.csv uploaded succesfully\n"
     ]
    }
   ],
   "source": [
    "upload_file('badQueriesCSV.csv',BUCKET_NAME)\n",
    "upload_file('goodQueriesCSV.csv',BUCKET_NAME)"
   ]
  },
  {
   "cell_type": "code",
   "execution_count": null,
   "metadata": {},
   "outputs": [],
   "source": []
  }
 ],
 "metadata": {
  "kernelspec": {
   "display_name": "Python 3",
   "language": "python",
   "name": "python3"
  },
  "language_info": {
   "codemirror_mode": {
    "name": "ipython",
    "version": 3
   },
   "file_extension": ".py",
   "mimetype": "text/x-python",
   "name": "python",
   "nbconvert_exporter": "python",
   "pygments_lexer": "ipython3",
   "version": "3.7.3"
  }
 },
 "nbformat": 4,
 "nbformat_minor": 2
}
