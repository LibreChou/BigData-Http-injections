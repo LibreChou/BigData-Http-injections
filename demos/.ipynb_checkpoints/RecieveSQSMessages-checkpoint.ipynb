{
 "cells": [
  {
   "cell_type": "code",
   "execution_count": 4,
   "metadata": {},
   "outputs": [],
   "source": [
    "import boto3\n",
    "import time\n",
    " \n",
    "# Wait for 5 seconds\n",
    "\n",
    "\n",
    "sqs = boto3.resource('sqs')\n",
    "\n",
    "\n",
    "def recieve():\n",
    "    queue = sqs.get_queue_by_name(QueueName='test')\n",
    "    while True:\n",
    "        messages = queue.receive_messages()\n",
    "        if len(messages) == 0:\n",
    "            print('No data')\n",
    "        else:\n",
    "            for message in messages:\n",
    "                # Print out the body and author (if set)\n",
    "                print('query: {0}'.format(message.body))\n",
    "                # Let the queue know that the message is processed\n",
    "                message.delete()\n",
    "\n",
    "        time.sleep(2)\n"
   ]
  },
  {
   "cell_type": "code",
   "execution_count": null,
   "metadata": {},
   "outputs": [
    {
     "name": "stdout",
     "output_type": "stream",
     "text": [
      "No data\n",
      "No data\n",
      "No data\n",
      "No data\n",
      "No data\n",
      "No data\n",
      "No data\n",
      "No data\n",
      "No data\n",
      "No data\n",
      "query: asdfasdf\n",
      "query: _close\n",
      "No data\n",
      "No data\n",
      "No data\n",
      "No data\n",
      "No data\n",
      "No data\n",
      "No data\n"
     ]
    }
   ],
   "source": [
    "recieve()"
   ]
  },
  {
   "cell_type": "code",
   "execution_count": null,
   "metadata": {},
   "outputs": [],
   "source": []
  }
 ],
 "metadata": {
  "kernelspec": {
   "display_name": "Python 3",
   "language": "python",
   "name": "python3"
  },
  "language_info": {
   "codemirror_mode": {
    "name": "ipython",
    "version": 3
   },
   "file_extension": ".py",
   "mimetype": "text/x-python",
   "name": "python",
   "nbconvert_exporter": "python",
   "pygments_lexer": "ipython3",
   "version": "3.7.6"
  }
 },
 "nbformat": 4,
 "nbformat_minor": 4
}
