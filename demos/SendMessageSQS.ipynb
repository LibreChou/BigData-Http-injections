{
 "cells": [
  {
   "cell_type": "code",
   "execution_count": null,
   "metadata": {},
   "outputs": [],
   "source": [
    "#!pip install boto3"
   ]
  },
  {
   "cell_type": "code",
   "execution_count": 6,
   "metadata": {},
   "outputs": [
    {
     "name": "stdout",
     "output_type": "stream",
     "text": [
      "https://eu-central-1.queue.amazonaws.com/471930285717/test\n",
      "1\n"
     ]
    }
   ],
   "source": [
    "import boto3\n",
    "# Get the service resource\n",
    "sqs = boto3.resource('sqs')\n",
    "\n",
    "# # Create the queue. This returns an SQS.Queue instance\n",
    "queue = sqs.create_queue(QueueName='test', Attributes={'DelaySeconds': '1'})\n",
    "\n",
    "# # You can now access identifiers and attributes\n",
    "print(queue.url)\n",
    "print(queue.attributes.get('DelaySeconds'))"
   ]
  },
  {
   "cell_type": "code",
   "execution_count": 7,
   "metadata": {},
   "outputs": [
    {
     "name": "stdout",
     "output_type": "stream",
     "text": [
      "https://eu-central-1.queue.amazonaws.com/471930285717/test\n"
     ]
    }
   ],
   "source": [
    "# Print out each queue name, which is part of its ARN\n",
    "for queue in sqs.queues.all():\n",
    "    print(queue.url)"
   ]
  },
  {
   "cell_type": "code",
   "execution_count": null,
   "metadata": {},
   "outputs": [],
   "source": [
    "# Get the queue\n",
    "queue = sqs.get_queue_by_name(QueueName='test')\n",
    "input_ = ''\n",
    "counter = 0\n",
    "while input_ != '_close':\n",
    "    input_ = input(\"Type something to test this out: \")\n",
    "    response = queue.send_messages(Entries=[\n",
    "        {\n",
    "            'Id': str(counter),\n",
    "            'MessageBody': input_\n",
    "        },\n",
    "    ])\n",
    "    counter+=1\n",
    "\n",
    "\n"
   ]
  },
  {
   "cell_type": "code",
   "execution_count": null,
   "metadata": {},
   "outputs": [],
   "source": []
  },
  {
   "cell_type": "code",
   "execution_count": null,
   "metadata": {},
   "outputs": [],
   "source": []
  },
  {
   "cell_type": "code",
   "execution_count": null,
   "metadata": {},
   "outputs": [],
   "source": []
  }
 ],
 "metadata": {
  "kernelspec": {
   "display_name": "Python 3",
   "language": "python",
   "name": "python3"
  },
  "language_info": {
   "codemirror_mode": {
    "name": "ipython",
    "version": 3
   },
   "file_extension": ".py",
   "mimetype": "text/x-python",
   "name": "python",
   "nbconvert_exporter": "python",
   "pygments_lexer": "ipython3",
   "version": "3.7.6"
  }
 },
 "nbformat": 4,
 "nbformat_minor": 4
}
