{
 "cells": [
  {
   "cell_type": "code",
   "execution_count": 1,
   "metadata": {},
   "outputs": [],
   "source": [
    "import boto3\n",
    "from boto3.session import Session\n",
    "\n"
   ]
  },
  {
   "cell_type": "code",
   "execution_count": 2,
   "metadata": {},
   "outputs": [
    {
     "name": "stdout",
     "output_type": "stream",
     "text": [
      "['big-data1']\n"
     ]
    }
   ],
   "source": [
    "s3 = boto3.resource('s3')\n",
    "buckets = [bucket.name for bucket in s3.buckets.all()]\n",
    "print(buckets)\n"
   ]
  },
  {
   "cell_type": "code",
   "execution_count": 3,
   "metadata": {},
   "outputs": [
    {
     "name": "stdout",
     "output_type": "stream",
     "text": [
      "badQueriesCSV.csv\n",
      "badqueries.txt\n",
      "goodQueriesCSV.csv\n",
      "goodqueries.txt\n"
     ]
    }
   ],
   "source": [
    "\n",
    "our_bucket = s3.Bucket('big-data1')\n",
    "\n",
    "for s3_file in our_bucket.objects.all():\n",
    "    print(s3_file.key) # prints the contents of bucket"
   ]
  },
  {
   "cell_type": "code",
   "execution_count": 4,
   "metadata": {},
   "outputs": [
    {
     "name": "stdout",
     "output_type": "stream",
     "text": [
      "Download Successfully\n"
     ]
    }
   ],
   "source": [
    "try:\n",
    "    s3.Bucket('big-data1').download_file('badQueriesCSV.csv', 'badQueriesFromS3.csv')\n",
    "    s3.Bucket('big-data1').download_file('goodQueriesCSV.csv', 'goodQueriesFromS3.csv')\n",
    "    print('Download Successfully')\n",
    "except botocore.exceptions.ClientError as e:\n",
    "    if e.response['Error']['Code'] == \"404\":\n",
    "        print(\"The object does not exist.\")\n",
    "    else:\n",
    "        raise"
   ]
  },
  {
   "cell_type": "markdown",
   "metadata": {},
   "source": []
  },
  {
   "cell_type": "code",
   "execution_count": null,
   "metadata": {},
   "outputs": [],
   "source": []
  }
 ],
 "metadata": {
  "kernelspec": {
   "display_name": "Python 3",
   "language": "python",
   "name": "python3"
  },
  "language_info": {
   "codemirror_mode": {
    "name": "ipython",
    "version": 3
   },
   "file_extension": ".py",
   "mimetype": "text/x-python",
   "name": "python",
   "nbconvert_exporter": "python",
   "pygments_lexer": "ipython3",
   "version": "3.7.4"
  }
 },
 "nbformat": 4,
 "nbformat_minor": 2
}
