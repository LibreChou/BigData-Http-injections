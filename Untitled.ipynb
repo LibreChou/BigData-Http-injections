{
 "cells": [
  {
   "cell_type": "code",
   "execution_count": 1,
   "metadata": {},
   "outputs": [
    {
     "data": {
      "text/html": [
       "\n",
       "        <div>\n",
       "            <p><b>SparkContext</b></p>\n",
       "\n",
       "            <p><a href=\"http://192.168.90.63:4040\">Spark UI</a></p>\n",
       "\n",
       "            <dl>\n",
       "              <dt>Version</dt>\n",
       "                <dd><code>v2.4.0</code></dd>\n",
       "              <dt>Master</dt>\n",
       "                <dd><code>local[*]</code></dd>\n",
       "              <dt>AppName</dt>\n",
       "                <dd><code>PySparkShell</code></dd>\n",
       "            </dl>\n",
       "        </div>\n",
       "        "
      ],
      "text/plain": [
       "<SparkContext master=local[*] appName=PySparkShell>"
      ]
     },
     "execution_count": 1,
     "metadata": {},
     "output_type": "execute_result"
    }
   ],
   "source": [
    "import pyspark\n",
    "from pyspark import SparkContext\n",
    "from pyspark.sql import SQLContext\n",
    "from pyspark.sql import Row\n",
    "from pyspark import SparkFiles\n",
    "\n",
    "# sc =SparkContext()\n",
    "url = 'https://github.com/grananqvist/Machine-Learning-Web-Application-Firewall-and-Dataset/raw/master/data/payloads.csv'\n",
    "sc.addFile(url)\n",
    "sqlc = SQLContext(sc)\n",
    "sc"
   ]
  },
  {
   "cell_type": "code",
   "execution_count": 2,
   "metadata": {},
   "outputs": [],
   "source": [
    "import pandas as pd\n",
    "\n",
    "df_pd = pd.read_csv(SparkFiles.get(\"payloads.csv\"))\n",
    "df_pd = df_pd.fillna(\"\")\n",
    "\n",
    "df = sqlc.createDataFrame(df_pd)"
   ]
  },
  {
   "cell_type": "code",
   "execution_count": 3,
   "metadata": {},
   "outputs": [],
   "source": [
    "def get_ngrams(payload_obj,n=1):\n",
    "    payload = str(payload_obj)\n",
    "    ngrams = []\n",
    "    for i in range(0,len(payload)-n+1):\n",
    "        ngrams.append(payload[i:i+n])\n",
    "    return \" \".join(ngrams)\n",
    "\n",
    "def payload_ngram(row,n=1):\n",
    "    row_dict = row.asDict()\n",
    "    row_dict[f'payload_{n}gram'] = get_ngrams(row_dict['payload'],n=n) # payload_cl - payload char list\n",
    "    newrow = Row(**row_dict)\n",
    "    return newrow\n",
    "\n",
    "n=1\n",
    "payload_gram = f'payload_{n}gram'\n",
    "df_rdd = df.rdd.map(lambda row: payload_ngram(row,n))\n",
    "df  = sqlc.createDataFrame(df_rdd)\n",
    "df = df.select(\"index\",'payload','is_malicious',payload_gram)"
   ]
  },
  {
   "cell_type": "markdown",
   "metadata": {},
   "source": [
    "# TFIDF - With no RDD's"
   ]
  },
  {
   "cell_type": "code",
   "execution_count": null,
   "metadata": {},
   "outputs": [],
   "source": [
    "# from pyspark.mllib.feature import HashingTF\n",
    "from pyspark.mllib.linalg import VectorUDT, DenseVector\n",
    "from pyspark.sql.functions import udf\n",
    "from pyspark.ml.feature import NGram, CountVectorizer, VectorAssembler,Tokenizer,IDF\n",
    "\n",
    "# tokenizer\n",
    "tokenizer = Tokenizer(inputCol=payload_gram, outputCol=\"words\")\n",
    "wordsData = tokenizer.transform(df)\n",
    "\n",
    "# vectorizer\n",
    "vectorizer = CountVectorizer(inputCol='words', outputCol='vectorizer').fit(wordsData)\n",
    "wordsData = vectorizer.transform(wordsData)\n",
    "\n",
    "# calculate scores\n",
    "idf = IDF(inputCol=\"vectorizer\", outputCol=\"tfidf_features\")\n",
    "idf_model = idf.fit(wordsData)\n",
    "wordsData = idf_model.transform(wordsData)\n",
    "\n",
    "# dense the current response variable\n",
    "def to_dense(in_vec):\n",
    "    return DenseVector(in_vec.toArray())\n",
    "\n",
    "to_dense_udf = udf(lambda x: to_dense(x), VectorUDT())\n",
    "\n",
    "# create dense vector\n",
    "wordsData = wordsData.withColumn(\"tfidf_features_dense\", to_dense_udf('tfidf_features'))\n",
    "\n"
   ]
  },
  {
   "cell_type": "markdown",
   "metadata": {},
   "source": [
    "# TFIDF - With RDD's"
   ]
  },
  {
   "cell_type": "code",
   "execution_count": 4,
   "metadata": {},
   "outputs": [],
   "source": [
    "from pyspark.mllib.feature import HashingTF, IDF\n",
    "from pyspark.ml.feature import Tokenizer\n",
    "from pyspark.mllib.linalg import VectorUDT, DenseVector\n",
    "from pyspark.sql.functions import udf\n",
    "\n",
    "\n",
    "tokenizer = Tokenizer(inputCol=payload_gram, outputCol=\"words\")\n",
    "wordsData = tokenizer.transform(df)"
   ]
  },
  {
   "cell_type": "code",
   "execution_count": 16,
   "metadata": {},
   "outputs": [],
   "source": [
    "df_rdd2 = wordsData.select('index','words')"
   ]
  },
  {
   "cell_type": "code",
   "execution_count": 17,
   "metadata": {},
   "outputs": [
    {
     "name": "stdout",
     "output_type": "stream",
     "text": [
      "+-----+--------------------+\n",
      "|index|               words|\n",
      "+-----+--------------------+\n",
      "|    0|[3, 7, 6, 6, 2, 5...|\n",
      "|    1|[s, h, i, r, t, i...|\n",
      "|    2|[&, k, w, =, %, 2...|\n",
      "|    3|[o, b, e, y, i, n...|\n",
      "|    4|[d, i, c, t, a, t...|\n",
      "|    5|[l, a, f, l, e, u...|\n",
      "|    6|[c, a, p, t, u, r...|\n",
      "|    7|[8, n, c, a, 5, 8...|\n",
      "|    8|[a, u, t, o, c, r...|\n",
      "|    9|[g, r, o, c, e, r...|\n",
      "|   10|[d, a, n, c, i, e...|\n",
      "|   11|[k, o, r, e, s, s...|\n",
      "|   12|[b, o, w, i, e, 0...|\n",
      "|   13|[a, u, q, u, e, +...|\n",
      "|   14|[b, r, o, a, d, e...|\n",
      "|   15|[x, a, u, b, e, t...|\n",
      "|   16|[v, o, c, a, t, i...|\n",
      "|   17|     [y, e, m, e, n]|\n",
      "|   18|     [2, 2, 5, 8, 4]|\n",
      "|   19|[<, b, r, , , s, ...|\n",
      "+-----+--------------------+\n",
      "only showing top 20 rows\n",
      "\n"
     ]
    }
   ],
   "source": [
    "df_rdd2.show()"
   ]
  },
  {
   "cell_type": "code",
   "execution_count": null,
   "metadata": {},
   "outputs": [],
   "source": []
  },
  {
   "cell_type": "code",
   "execution_count": null,
   "metadata": {},
   "outputs": [],
   "source": []
  },
  {
   "cell_type": "code",
   "execution_count": null,
   "metadata": {},
   "outputs": [],
   "source": []
  }
 ],
 "metadata": {
  "kernelspec": {
   "display_name": "Python 3",
   "language": "python",
   "name": "python3"
  },
  "language_info": {
   "codemirror_mode": {
    "name": "ipython",
    "version": 3
   },
   "file_extension": ".py",
   "mimetype": "text/x-python",
   "name": "python",
   "nbconvert_exporter": "python",
   "pygments_lexer": "ipython3",
   "version": "3.7.3"
  }
 },
 "nbformat": 4,
 "nbformat_minor": 2
}
