{
 "cells": [
  {
   "cell_type": "code",
   "execution_count": 1,
   "metadata": {},
   "outputs": [
    {
     "data": {
      "text/html": [
       "\n",
       "        <div>\n",
       "            <p><b>SparkContext</b></p>\n",
       "\n",
       "            <p><a href=\"http://192.168.90.63:4040\">Spark UI</a></p>\n",
       "\n",
       "            <dl>\n",
       "              <dt>Version</dt>\n",
       "                <dd><code>v2.4.0</code></dd>\n",
       "              <dt>Master</dt>\n",
       "                <dd><code>local[*]</code></dd>\n",
       "              <dt>AppName</dt>\n",
       "                <dd><code>PySparkShell</code></dd>\n",
       "            </dl>\n",
       "        </div>\n",
       "        "
      ],
      "text/plain": [
       "<SparkContext master=local[*] appName=PySparkShell>"
      ]
     },
     "execution_count": 1,
     "metadata": {},
     "output_type": "execute_result"
    }
   ],
   "source": [
    "import pyspark\n",
    "from pyspark import SparkContext, SparkFiles\n",
    "from pyspark.sql import SQLContext,Row \n",
    "from pyspark.sql.functions import udf\n",
    "from pyspark.ml.feature import CountVectorizer, VectorAssembler,Tokenizer,IDF\n",
    "from pyspark.mllib.linalg import VectorUDT, DenseVector\n",
    "import pandas as pd\n",
    "# sc =SparkContext()\n",
    "url = 'https://github.com/grananqvist/Machine-Learning-Web-Application-Firewall-and-Dataset/raw/master/data/payloads.csv'\n",
    "sc.addFile(url)\n",
    "sqlc = SQLContext(sc)\n",
    "sc"
   ]
  },
  {
   "cell_type": "code",
   "execution_count": 51,
   "metadata": {},
   "outputs": [],
   "source": [
    "df_pd = pd.read_csv(SparkFiles.get(\"payloads.csv\"))\n",
    "df_pd = df_pd.fillna(\"\")\n",
    "\n",
    "df = sqlc.createDataFrame(df_pd)"
   ]
  },
  {
   "cell_type": "markdown",
   "metadata": {},
   "source": [
    "# Data Preprocessing\n",
    "   - dataset columns: index,payload,is_maliscious\n",
    "   - first step is turning the payload(type string) into numerical values(vectors)"
   ]
  },
  {
   "cell_type": "code",
   "execution_count": 76,
   "metadata": {},
   "outputs": [
    {
     "data": {
      "text/plain": [
       "'<s sc cr ri ip pt t>'"
      ]
     },
     "execution_count": 76,
     "metadata": {},
     "output_type": "execute_result"
    }
   ],
   "source": [
    "def get_ngrams(payload_obj,n=1):\n",
    "    payload = str(payload_obj)\n",
    "    ngrams = []\n",
    "    for i in range(0,len(payload)-n+1):\n",
    "        ngrams.append(payload[i:i+n])\n",
    "    return \" \".join(ngrams)\n",
    "\n",
    "get_ngrams(\"<script>\",2)"
   ]
  },
  {
   "cell_type": "code",
   "execution_count": 77,
   "metadata": {},
   "outputs": [
    {
     "name": "stdout",
     "output_type": "stream",
     "text": [
      "created grams\n",
      "3 7 6 6 2 5 7 7 p\n"
     ]
    }
   ],
   "source": [
    "def payload_ngram(row,n=1):\n",
    "    row_dict = row.asDict()\n",
    "    row_dict[f'payload_{n}gram'] = get_ngrams(row_dict['payload'].lower(),n=n) # payload_cl - payload char list\n",
    "    newrow = Row(**row_dict)\n",
    "    return newrow\n",
    "\n",
    "n=1\n",
    "payload_gram = f'payload_{n}gram'\n",
    "df_rdd = df.rdd.map(lambda row: payload_ngram(row,n))\n",
    "print('created grams')\n",
    "print(df_rdd.map(lambda row : row[payload_gram]).first())"
   ]
  },
  {
   "cell_type": "code",
   "execution_count": 78,
   "metadata": {},
   "outputs": [],
   "source": [
    "df = sqlc.createDataFrame(df_rdd)\n",
    "df = df.select(\"index\",'payload',payload_gram,'is_malicious')"
   ]
  },
  {
   "cell_type": "code",
   "execution_count": 79,
   "metadata": {},
   "outputs": [],
   "source": [
    "\n",
    "tokenizer = Tokenizer(inputCol=payload_gram, outputCol=\"tokens\")\n",
    "wordsData = tokenizer.transform(df)\n",
    "\n",
    "vectorizer = CountVectorizer(inputCol='tokens', outputCol='vectorizer').fit(wordsData)\n",
    "wordsData = vectorizer.transform(wordsData)\n",
    "\n",
    "idf = IDF(inputCol='vectorizer', outputCol='tfidf_features')\n",
    "idf_model = idf.fit(wordsData)\n",
    "wordsData = idf_model.transform(wordsData)\n",
    "\n",
    "def to_dense(in_vec):\n",
    "    return DenseVector(in_vec.toArray())\n",
    "\n",
    "to_dense_udf = udf(lambda x: to_dense(x), VectorUDT())\n",
    "\n",
    "# create dense vector\n",
    "wordsData = wordsData.withColumn(\"tfidf_features_dense\", to_dense_udf('tfidf_features'))\n",
    "\n"
   ]
  },
  {
   "cell_type": "code",
   "execution_count": 84,
   "metadata": {},
   "outputs": [],
   "source": [
    "X = wordsData.rdd.map(lambda row: row['tfidf_features_dense'])\n",
    "y = wordsData.rdd.map(lambda row: row['is_malicious'])"
   ]
  },
  {
   "cell_type": "code",
   "execution_count": 85,
   "metadata": {},
   "outputs": [
    {
     "data": {
      "text/plain": [
       "0.0"
      ]
     },
     "execution_count": 85,
     "metadata": {},
     "output_type": "execute_result"
    }
   ],
   "source": [
    "y.first()"
   ]
  },
  {
   "cell_type": "code",
   "execution_count": 86,
   "metadata": {},
   "outputs": [
    {
     "data": {
      "text/plain": [
       "DenseVector([0.0, 0.0, 0.0, 0.0, 0.0, 0.0, 0.0, 0.0, 0.0, 0.0, 1.7647, 0.0, 0.0, 0.0, 0.0, 0.0, 0.0, 1.5434, 1.8923, 0.0, 0.0, 0.0, 0.0, 0.0, 0.0, 0.0, 0.0, 2.1693, 0.0, 4.463, 6.5971, 0.0, 0.0, 0.0, 0.0, 0.0, 0.0, 0.0, 0.0, 0.0, 0.0, 0.0, 0.0, 0.0, 0.0, 0.0, 0.0, 0.0, 0.0, 0.0, 0.0, 0.0, 0.0, 0.0, 0.0, 0.0, 0.0, 0.0, 0.0, 0.0, 0.0, 0.0, 0.0, 0.0, 0.0, 0.0, 0.0, 0.0, 0.0, 0.0, 0.0, 0.0, 0.0, 0.0, 0.0, 0.0, 0.0, 0.0, 0.0, 0.0, 0.0, 0.0, 0.0, 0.0, 0.0, 0.0, 0.0, 0.0, 0.0, 0.0, 0.0, 0.0, 0.0, 0.0, 0.0, 0.0, 0.0, 0.0, 0.0, 0.0, 0.0, 0.0, 0.0, 0.0, 0.0, 0.0, 0.0, 0.0, 0.0, 0.0, 0.0, 0.0, 0.0, 0.0, 0.0, 0.0, 0.0, 0.0, 0.0, 0.0, 0.0, 0.0, 0.0, 0.0, 0.0, 0.0, 0.0, 0.0, 0.0, 0.0, 0.0, 0.0, 0.0, 0.0, 0.0, 0.0, 0.0, 0.0, 0.0, 0.0, 0.0, 0.0, 0.0, 0.0, 0.0, 0.0, 0.0, 0.0, 0.0, 0.0, 0.0, 0.0, 0.0, 0.0, 0.0, 0.0, 0.0, 0.0, 0.0, 0.0, 0.0, 0.0, 0.0, 0.0, 0.0, 0.0, 0.0, 0.0, 0.0, 0.0, 0.0, 0.0, 0.0, 0.0, 0.0])"
      ]
     },
     "execution_count": 86,
     "metadata": {},
     "output_type": "execute_result"
    }
   ],
   "source": [
    "X.first()"
   ]
  },
  {
   "cell_type": "markdown",
   "metadata": {},
   "source": [
    "# Training models"
   ]
  },
  {
   "cell_type": "code",
   "execution_count": null,
   "metadata": {},
   "outputs": [],
   "source": []
  },
  {
   "cell_type": "code",
   "execution_count": null,
   "metadata": {},
   "outputs": [],
   "source": []
  },
  {
   "cell_type": "code",
   "execution_count": null,
   "metadata": {},
   "outputs": [],
   "source": [
    "\n"
   ]
  }
 ],
 "metadata": {
  "kernelspec": {
   "display_name": "Python 3",
   "language": "python",
   "name": "python3"
  },
  "language_info": {
   "codemirror_mode": {
    "name": "ipython",
    "version": 3
   },
   "file_extension": ".py",
   "mimetype": "text/x-python",
   "name": "python",
   "nbconvert_exporter": "python",
   "pygments_lexer": "ipython3",
   "version": "3.7.3"
  }
 },
 "nbformat": 4,
 "nbformat_minor": 2
}
