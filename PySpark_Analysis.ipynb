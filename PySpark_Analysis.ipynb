{
  "nbformat": 4,
  "nbformat_minor": 0,
  "metadata": {
    "colab": {
      "name": "PySpark_Analysis.ipynb",
      "provenance": [],
      "collapsed_sections": [],
      "toc_visible": true
    },
    "kernelspec": {
      "display_name": "Python 3",
      "language": "python",
      "name": "python3"
    },
    "language_info": {
      "codemirror_mode": {
        "name": "ipython",
        "version": 3
      },
      "file_extension": ".py",
      "mimetype": "text/x-python",
      "name": "python",
      "nbconvert_exporter": "python",
      "pygments_lexer": "ipython3",
      "version": "3.7.3"
    }
  },
  "cells": [
    {
      "cell_type": "markdown",
      "metadata": {
        "id": "IkMnMH9bGbGx",
        "colab_type": "text"
      },
      "source": [
        "# Get The Dataset"
      ]
    },
    {
      "cell_type": "code",
      "metadata": {
        "id": "PrP7jBX7GVis",
        "colab_type": "code",
        "colab": {
          "base_uri": "https://localhost:8080/",
          "height": 417
        },
        "outputId": "8ab73922-4212-4fb6-adcf-22fcba8235ee"
      },
      "source": [
        "\n",
        "# # !wget https://raw.githubusercontent.com/grananqvist/Machine-Learning-Web-Application-Firewall-and-Dataset/master/data/payloads.csv\n",
        "!wget https://raw.githubusercontent.com/faizann24/Fwaf-Machine-Learning-driven-Web-Application-Firewall/master/badqueries.txt\n",
        "!wget https://raw.githubusercontent.com/faizann24/Fwaf-Machine-Learning-driven-Web-Application-Firewall/master/goodqueries.txt"
      ],
      "execution_count": 1,
      "outputs": [
        {
          "output_type": "stream",
          "text": [
            "--2020-04-20 10:59:34--  https://raw.githubusercontent.com/faizann24/Fwaf-Machine-Learning-driven-Web-Application-Firewall/master/badqueries.txt\n",
            "Resolving raw.githubusercontent.com (raw.githubusercontent.com)... 151.101.0.133, 151.101.64.133, 151.101.128.133, ...\n",
            "Connecting to raw.githubusercontent.com (raw.githubusercontent.com)|151.101.0.133|:443... connected.\n",
            "HTTP request sent, awaiting response... 200 OK\n",
            "Length: 3374922 (3.2M) [text/plain]\n",
            "Saving to: ‘badqueries.txt’\n",
            "\n",
            "\rbadqueries.txt        0%[                    ]       0  --.-KB/s               \rbadqueries.txt       58%[==========>         ]   1.88M  9.38MB/s               \rbadqueries.txt      100%[===================>]   3.22M  11.5MB/s    in 0.3s    \n",
            "\n",
            "2020-04-20 10:59:35 (11.5 MB/s) - ‘badqueries.txt’ saved [3374922/3374922]\n",
            "\n",
            "--2020-04-20 10:59:38--  https://raw.githubusercontent.com/faizann24/Fwaf-Machine-Learning-driven-Web-Application-Firewall/master/goodqueries.txt\n",
            "Resolving raw.githubusercontent.com (raw.githubusercontent.com)... 151.101.0.133, 151.101.64.133, 151.101.128.133, ...\n",
            "Connecting to raw.githubusercontent.com (raw.githubusercontent.com)|151.101.0.133|:443... connected.\n",
            "HTTP request sent, awaiting response... 200 OK\n",
            "Length: 24063954 (23M) [text/plain]\n",
            "Saving to: ‘goodqueries.txt’\n",
            "\n",
            "goodqueries.txt     100%[===================>]  22.95M   118MB/s    in 0.2s    \n",
            "\n",
            "2020-04-20 10:59:38 (118 MB/s) - ‘goodqueries.txt’ saved [24063954/24063954]\n",
            "\n"
          ],
          "name": "stdout"
        }
      ]
    },
    {
      "cell_type": "markdown",
      "metadata": {
        "colab_type": "text",
        "id": "sq8U3BtmhtRx"
      },
      "source": [
        "---\n",
        "# Init pyspark"
      ]
    },
    {
      "cell_type": "code",
      "metadata": {
        "colab_type": "code",
        "id": "lh5NCoc8fsSO",
        "colab": {}
      },
      "source": [
        "!apt-get install openjdk-8-jdk-headless -qq > /dev/null\n",
        "!wget -q https://www-us.apache.org/dist/spark/spark-2.4.5/spark-2.4.5-bin-hadoop2.7.tgz\n",
        "!tar xf spark-2.4.5-bin-hadoop2.7.tgz\n",
        "!rm spark-2.4.5-bin-hadoop2.7.tgz\n",
        "!pip install -q findspark\n",
        "\n",
        "# path variables\n",
        "import os\n",
        "os.environ[\"JAVA_HOME\"] = \"/usr/lib/jvm/java-8-openjdk-amd64\"\n",
        "os.environ[\"SPARK_HOME\"] = \"/content/spark-2.4.5-bin-hadoop2.7\"\n",
        "\n",
        "# find pyspark library\n",
        "import findspark\n",
        "findspark.init()\n"
      ],
      "execution_count": 0,
      "outputs": []
    },
    {
      "cell_type": "markdown",
      "metadata": {
        "colab_type": "text",
        "id": "vVuwnLaIdMG6"
      },
      "source": [
        "---"
      ]
    },
    {
      "cell_type": "code",
      "metadata": {
        "colab_type": "code",
        "id": "v1b8k_OVf2QF",
        "colab": {
          "base_uri": "https://localhost:8080/",
          "height": 74
        },
        "outputId": "882e39aa-dcd0-42a4-97cf-6e7890199286"
      },
      "source": [
        "\n",
        "import pyspark\n",
        "from pyspark import SparkContext\n",
        "from pyspark.sql import SQLContext, Row\n",
        "from pyspark.sql.types import StructType, StructField, DoubleType, StringType, IntegerType\n",
        "from pyspark.sql.functions import udf\n",
        "\n",
        "from pyspark.ml.feature import CountVectorizer, VectorAssembler, IDF\n",
        "from pyspark.ml import Pipeline\n",
        "from pyspark.ml.linalg import VectorUDT,DenseVector\n",
        "from pyspark.ml.classification import LogisticRegression\n",
        "from pyspark.ml.feature import PCA, Tokenizer, StandardScaler\n",
        "from pyspark.ml.tuning import ParamGridBuilder, TrainValidationSplit\n",
        "from pyspark.ml.evaluation import RegressionEvaluator\n",
        "\n",
        "import pandas as pd\n",
        "import numpy as np\n",
        "from matplotlib import pyplot as plt\n",
        "import seaborn as sns\n",
        "from sklearn.metrics import classification_report, confusion_matrix\n",
        "from urllib.parse import unquote"
      ],
      "execution_count": 3,
      "outputs": [
        {
          "output_type": "stream",
          "text": [
            "/usr/local/lib/python3.6/dist-packages/statsmodels/tools/_testing.py:19: FutureWarning: pandas.util.testing is deprecated. Use the functions in the public API at pandas.testing instead.\n",
            "  import pandas.util.testing as tm\n"
          ],
          "name": "stderr"
        }
      ]
    },
    {
      "cell_type": "code",
      "metadata": {
        "colab_type": "code",
        "id": "9_Uz1NL4gHFx",
        "outputId": "66431c98-6794-4f30-801e-c687014aecbd",
        "colab": {
          "base_uri": "https://localhost:8080/",
          "height": 198
        }
      },
      "source": [
        "APP_NAME = \"BigData\"\n",
        "conf = pyspark.SparkConf().setAll([ ('spark.app.name', APP_NAME),('spark.executor.memory', '8g'), ('spark.cores.max', '2'), ('spark.driver.memory','8g')])\n",
        "sc = SparkContext(conf=conf)\n",
        "sqlc = SQLContext(sc)\n",
        "sc"
      ],
      "execution_count": 4,
      "outputs": [
        {
          "output_type": "execute_result",
          "data": {
            "text/html": [
              "\n",
              "        <div>\n",
              "            <p><b>SparkContext</b></p>\n",
              "\n",
              "            <p><a href=\"http://c539f8215a8b:4040\">Spark UI</a></p>\n",
              "\n",
              "            <dl>\n",
              "              <dt>Version</dt>\n",
              "                <dd><code>v2.4.5</code></dd>\n",
              "              <dt>Master</dt>\n",
              "                <dd><code>local[*]</code></dd>\n",
              "              <dt>AppName</dt>\n",
              "                <dd><code>BigData</code></dd>\n",
              "            </dl>\n",
              "        </div>\n",
              "        "
            ],
            "text/plain": [
              "<SparkContext master=local[*] appName=BigData>"
            ]
          },
          "metadata": {
            "tags": []
          },
          "execution_count": 4
        }
      ]
    },
    {
      "cell_type": "markdown",
      "metadata": {
        "colab_type": "text",
        "id": "IjS3d8qhHdBS"
      },
      "source": [
        "# Load Data\n",
        "\n",
        "The dataset we used was collected from github: \n",
        "- https://github.com/faizann24/Fwaf-Machine-Learning-driven-Web-Application-Firewall/blob/master/script.py\n",
        "\n",
        "The dataset consists on more than 1 M entries"
      ]
    },
    {
      "cell_type": "code",
      "metadata": {
        "colab_type": "code",
        "id": "6y8mRjaX7CJu",
        "colab": {}
      },
      "source": [
        "good = sc.textFile(\"goodqueries.txt\").map(lambda line: Row(is_malicious=0.0,payload=str(unquote(line))[1:])).distinct()\n",
        "bad = sc.textFile(\"badqueries.txt\").map(lambda line: Row(is_malicious=1.0,payload=str(unquote(line))[1:])).distinct()\n",
        "mySchema = StructType([StructField(\"is_malicious\", DoubleType(), True),StructField(\"payload\", StringType(), True)])\n",
        "\n",
        "df = sqlc.createDataFrame(good.union(bad), mySchema).cache()"
      ],
      "execution_count": 0,
      "outputs": []
    },
    {
      "cell_type": "code",
      "metadata": {
        "colab_type": "code",
        "id": "jXdZj5R47CL8",
        "colab": {}
      },
      "source": [
        "# dfPD = pd.read_csv('payloads.csv')\n",
        "# dfPD = dfPD.drop(columns=['injection_type'])\n",
        "# mySchema = StructType([ StructField(\"doc_id\", IntegerType(), True) ,StructField(\"payload\", StringType(), True),StructField(\"is_malicious\", DoubleType(), True)])\n",
        "# df = sqlc.createDataFrame(dfPD,schema=mySchema)\n",
        "# df = df.select('doc_id','is_malicious','payload')"
      ],
      "execution_count": 0,
      "outputs": []
    },
    {
      "cell_type": "markdown",
      "metadata": {
        "id": "6iX26HciHvpY",
        "colab_type": "text"
      },
      "source": [
        "---\n",
        "\n",
        "\n",
        "# Preprocess Data\n",
        "## Feature extarcting\n",
        "> models can't evaluate string so we will want to turn the string into numerical vectors using the HashingTF and IDF provided by spark. First of all, words won't help in http queries so we will turn each query into bigrams to exapnad the features space and treating each by gram as a word. This approach will expand the word bucket.An Example for bi-gram is given below."
      ]
    },
    {
      "cell_type": "code",
      "metadata": {
        "colab_type": "code",
        "id": "Mn07WmmcwoFH",
        "colab": {
          "base_uri": "https://localhost:8080/",
          "height": 54
        },
        "outputId": "f4d5f632-2c80-4b68-83b4-ee19efff0909"
      },
      "source": [
        "def to_ngram(payload_obj):\n",
        "    n=2\n",
        "    payload = str(payload_obj)\n",
        "    ngrams = ''\n",
        "    for i in range(0,len(payload)-n + 1):\n",
        "        ngrams += payload[i:i+n]+ ' '\n",
        "    return ngrams[:-1]\n",
        "\n",
        "\n",
        "print('EXAMPLE: bigram of the word <script>:')\n",
        "to_ngram(\"<script>\")"
      ],
      "execution_count": 7,
      "outputs": [
        {
          "output_type": "stream",
          "text": [
            "EXAMPLE: bigram of the word <script>:\n"
          ],
          "name": "stdout"
        },
        {
          "output_type": "execute_result",
          "data": {
            "text/plain": [
              "'<s sc cr ri ip pt t>'"
            ]
          },
          "metadata": {
            "tags": []
          },
          "execution_count": 7
        }
      ]
    },
    {
      "cell_type": "code",
      "metadata": {
        "colab_type": "code",
        "id": "GYZyUORZhcUM",
        "colab": {}
      },
      "source": [
        "#to_ngrams\n",
        "ngrams = udf(to_ngram, StringType())\n",
        "df = df.withColumn('ngrams', ngrams(df['payload']))\n",
        "\n",
        "# tokenize\n",
        "tokenizer = Tokenizer().setInputCol(\"ngrams\").setOutputCol(\"tokens\")\n",
        "wordsData = tokenizer.transform(df)\n",
        "\n",
        "# vectorize\n",
        "vectorizer = CountVectorizer(inputCol='tokens', outputCol='vectorizer').fit(wordsData)\n",
        "wordsData = vectorizer.transform(wordsData)\n",
        "\n",
        "# calculate scores\n",
        "idf = IDF(minDocFreq=1,inputCol=\"vectorizer\", outputCol=\"tfidf_features\")\n",
        "\n",
        "idf_model = idf.fit(wordsData)\n",
        "wordsData = idf_model.transform(wordsData)\n",
        "\n",
        "# dense the current response variable\n",
        "# def to_dense(in_vec):\n",
        "#     return DenseVector(in_vec.toArray())\n",
        "# to_dense_udf = udf(lambda x: to_dense(x), VectorUDT())\n",
        "\n",
        "# create dense vector\n",
        "# wordsData = wordsData.withColumn(\"tfidf_features_dense\", to_dense_udf('tfidf_features'))\n",
        "wordsData = wordsData.select(\"is_malicious\",\"tfidf_features\")"
      ],
      "execution_count": 0,
      "outputs": []
    },
    {
      "cell_type": "markdown",
      "metadata": {
        "id": "pkhkI2LoJbuW",
        "colab_type": "text"
      },
      "source": [
        "# Data Visualisation\n",
        "> To help us understand better the data we want to see if theres any diffrences between the points that are labled as an attack with others.So, we will use the PCA algorithm, a dimension reduction method to help us plot the points on 2 dimenssional space.\n",
        "\n",
        "## First step is to scale the data points\n",
        "\n"
      ]
    },
    {
      "cell_type": "code",
      "metadata": {
        "colab_type": "code",
        "id": "x_aW_PrFWLLt",
        "colab": {}
      },
      "source": [
        "scaler = StandardScaler(inputCol=\"tfidf_features\", outputCol=\"scaledFeatures\",\n",
        "                        withStd=True, withMean=False)\n",
        "\n",
        "# Compute summary statistics by fitting the StandardScaler\n",
        "scalerModel = scaler.fit(wordsData)\n",
        "\n",
        "# Normalize each feature to have unit standard deviation.\n",
        "wordsData = scalerModel.transform(wordsData).cache()"
      ],
      "execution_count": 0,
      "outputs": []
    },
    {
      "cell_type": "markdown",
      "metadata": {
        "id": "kv18NTImJpNe",
        "colab_type": "text"
      },
      "source": [
        "# PCA - 2 Principal Components\n"
      ]
    },
    {
      "cell_type": "code",
      "metadata": {
        "colab_type": "code",
        "id": "5NDf_Svxjs2G",
        "colab": {}
      },
      "source": [
        "pca = PCA(k=2, inputCol=\"scaledFeatures\", outputCol=\"pcaFeatures\")\n",
        "model = pca.fit(wordsData.select('is_malicious','scaledFeatures'))\n",
        "result = model.transform(wordsData).select('is_malicious',\"pcaFeatures\").cache()\n",
        "# result.show(truncate=False)"
      ],
      "execution_count": 0,
      "outputs": []
    },
    {
      "cell_type": "markdown",
      "metadata": {
        "id": "h3DS2DgOJ4Jk",
        "colab_type": "text"
      },
      "source": [
        "# Visualize Results\n"
      ]
    },
    {
      "cell_type": "code",
      "metadata": {
        "colab_type": "code",
        "id": "wAeaUJxeO-KP",
        "outputId": "d216658f-10fa-436b-a5ee-e6419ddbc3f9",
        "colab": {
          "base_uri": "https://localhost:8080/",
          "height": 523
        }
      },
      "source": [
        "anom = np.array(result.filter(result['is_malicious'] == 1.0).rdd.map(lambda x: x['pcaFeatures']).collect()).T\n",
        "norm = np.array(result.filter(result['is_malicious'] == 0.0).rdd.map(lambda x: x['pcaFeatures']).collect()).T\n",
        "\n",
        "fig = plt.figure(figsize = [8,8])\n",
        "ax = fig.add_subplot(1,1,1) \n",
        "ax.set_xlabel('PC 1', fontsize = 15)\n",
        "ax.set_ylabel('PC 2', fontsize = 15)\n",
        "ax.set_title('PCA', fontsize = 20)\n",
        "ax.axis([-20, 150, -80, 50])\n",
        "targets = ['Attack','Normal']\n",
        "ax.scatter(anom[0]\n",
        "               , anom[1]\n",
        "               , c = 'r',alpha=0.4)\n",
        "ax.scatter(norm[0]\n",
        "               , norm[1]\n",
        "               , c = 'b'\n",
        "              ,alpha=0.4)\n",
        "\n",
        "ax.legend(targets)\n",
        "ax.grid()\n",
        "plt.show()"
      ],
      "execution_count": 25,
      "outputs": [
        {
          "output_type": "display_data",
          "data": {
            "image/png": "[encoded data removed]",
            "text/plain": [
              "<Figure size 576x576 with 1 Axes>"
            ]
          },
          "metadata": {
            "tags": [],
            "needs_background": "light"
          }
        }
      ]
    },
    {
      "cell_type": "markdown",
      "metadata": {
        "id": "ZIrAwmCWKB9G",
        "colab_type": "text"
      },
      "source": [
        "From the graph above we can see that anomalous queries usually turns into an outliered points and normal queries usually stay on the same extents. Therefore we can use spark.ml models to help us achieve our goal.\n",
        "\n",
        "---\n",
        "\n",
        "# Train & Evaluate\n",
        "The model that we will use is Logistic Regresssion\n",
        "\n",
        "> On Training we wont be able to know what hyperparameters we shoud use, like regularisation parameters etc.\n",
        "Spark provide a grid search algorithm to give us the model with the highest scores."
      ]
    },
    {
      "cell_type": "code",
      "metadata": {
        "colab_type": "code",
        "id": "RuyaxNe4P1OG",
        "outputId": "39e06b04-ebe4-4a30-9633-b7773fe2ec4b",
        "colab": {
          "base_uri": "https://localhost:8080/",
          "height": 54
        }
      },
      "source": [
        "train, test = wordsData.randomSplit([0.8, 0.2], seed = 2018)\n",
        "print(\"Training Dataset Count: \" + str(train.count()))\n",
        "print(\"Test Dataset Count: \" + str(test.count()))\n",
        "\n",
        "lr = LogisticRegression(featuresCol = 'scaledFeatures', labelCol = 'is_malicious')\n",
        "\n",
        "\n",
        "paramGrid = ParamGridBuilder().addGrid(lr.maxIter,[10,100,1000]).addGrid(lr.regParam, [0.1, 0.01,0.001])\\\n",
        "    .addGrid(lr.fitIntercept, [False, True]).addGrid(lr.elasticNetParam, [0.0, 0.5, 1.0]).build()\n",
        "\n",
        "tvs = TrainValidationSplit(estimator=lr,\n",
        "                           estimatorParamMaps=paramGrid,\n",
        "                           evaluator=RegressionEvaluator(labelCol='is_malicious'),\n",
        "                           trainRatio=0.8)\n",
        "model = tvs.fit(train)\n"
      ],
      "execution_count": 12,
      "outputs": [
        {
          "output_type": "stream",
          "text": [
            "Training Dataset Count: 1047916\n",
            "Test Dataset Count: 262337\n"
          ],
          "name": "stdout"
        }
      ]
    },
    {
      "cell_type": "code",
      "metadata": {
        "colab_type": "code",
        "id": "vlI-JoksSPAy",
        "outputId": "2d239fc1-3916-49da-e3a5-71ceed10e19c",
        "colab": {
          "base_uri": "https://localhost:8080/",
          "height": 331
        }
      },
      "source": [
        "trainingSummary = model.bestModel.summary\n",
        "roc = trainingSummary.roc.toPandas()\n",
        "plt.plot(roc['FPR'],roc['TPR'])\n",
        "plt.ylabel('False Positive Rate')\n",
        "plt.xlabel('True Positive Rate')\n",
        "plt.title('ROC Curve')\n",
        "plt.show()\n",
        "print('Training set areaUnderROC: ' + str(trainingSummary.areaUnderROC))\n",
        "print('Test Area accuracy', trainingSummary.accuracy)"
      ],
      "execution_count": 13,
      "outputs": [
        {
          "output_type": "display_data",
          "data": {
            "image/png": "[encoded data removed]",
            "text/plain": [
              "<Figure size 432x288 with 1 Axes>"
            ]
          },
          "metadata": {
            "tags": [],
            "needs_background": "light"
          }
        },
        {
          "output_type": "stream",
          "text": [
            "Training set areaUnderROC: 0.9988123537628646\n",
            "Test Area accuracy 0.9988052477488654\n"
          ],
          "name": "stdout"
        }
      ]
    },
    {
      "cell_type": "code",
      "metadata": {
        "colab_type": "code",
        "id": "Hkkd1sbLSna4",
        "outputId": "d0c5ffbf-d0ce-4803-d050-2ff533337086",
        "colab": {
          "base_uri": "https://localhost:8080/",
          "height": 279
        }
      },
      "source": [
        "pr = trainingSummary.pr.toPandas()\n",
        "plt.plot(pr['recall'],pr['precision'])\n",
        "plt.ylabel('Precision')\n",
        "plt.xlabel('Recall')\n",
        "plt.show()"
      ],
      "execution_count": 14,
      "outputs": [
        {
          "output_type": "display_data",
          "data": {
            "image/png": "[encoded data removed]",
            "text/plain": [
              "<Figure size 432x288 with 1 Axes>"
            ]
          },
          "metadata": {
            "tags": [],
            "needs_background": "light"
          }
        }
      ]
    },
    {
      "cell_type": "code",
      "metadata": {
        "colab_type": "code",
        "outputId": "3cd16ed8-3716-44e0-8f57-7d2af831df3d",
        "id": "VnL-tAyUMw_G",
        "colab": {
          "base_uri": "https://localhost:8080/",
          "height": 448
        }
      },
      "source": [
        "predictions = model.bestModel.transform(test)\n",
        "y_true = predictions.select(['is_malicious']).collect()\n",
        "y_pred = predictions.select(['prediction']).collect()\n",
        "\n",
        "cf_matrix = confusion_matrix(y_true, y_pred)\n",
        "print(classification_report(y_true, y_pred))\n",
        "\n",
        "\n",
        "group_names = ['True Neg','False Pos','False Neg','True Pos']\n",
        "group_counts = [\"{0:0.0f}\".format(value) for value in cf_matrix.flatten()]\n",
        "group_percentages = [\"{0:.2%}\".format(value) for value in cf_matrix.flatten()/np.sum(cf_matrix)]\n",
        "labels = [f\"{v1}\\n{v2}\\n{v3}\" for v1, v2, v3 in zip(group_names,group_counts,group_percentages)]\n",
        "labels = np.asarray(labels).reshape(2,2)\n",
        "\n",
        "sns.heatmap(cf_matrix, annot=labels, fmt='', cmap='Blues');\n"
      ],
      "execution_count": 16,
      "outputs": [
        {
          "output_type": "stream",
          "text": [
            "              precision    recall  f1-score   support\n",
            "\n",
            "         0.0       1.00      1.00      1.00    253468\n",
            "         1.0       1.00      0.96      0.98      8869\n",
            "\n",
            "    accuracy                           1.00    262337\n",
            "   macro avg       1.00      0.98      0.99    262337\n",
            "weighted avg       1.00      1.00      1.00    262337\n",
            "\n"
          ],
          "name": "stdout"
        },
        {
          "output_type": "execute_result",
          "data": {
            "text/plain": [
              "<matplotlib.axes._subplots.AxesSubplot at 0x7f76c02b72b0>"
            ]
          },
          "metadata": {
            "tags": []
          },
          "execution_count": 16
        },
        {
          "output_type": "display_data",
          "data": {
            "image/png": "[encoded data removed]",
            "text/plain": [
              "<Figure size 432x288 with 2 Axes>"
            ]
          },
          "metadata": {
            "tags": [],
            "needs_background": "light"
          }
        }
      ]
    },
    {
      "cell_type": "markdown",
      "metadata": {
        "id": "fqk__reKPLPx",
        "colab_type": "text"
      },
      "source": [
        "# Saving the models\n",
        "\n",
        "\n"
      ]
    },
    {
      "cell_type": "code",
      "metadata": {
        "colab_type": "code",
        "id": "sS-7wpJpfxGn",
        "colab": {}
      },
      "source": [
        "model.bestModel.save('/content/drive/My Drive/Colab Notebooks/Bigdata/Logistic_Regression_Model')\n",
        "tokenizer.save('/content/drive/My Drive/Colab Notebooks/Bigdata/Tokenizer')\n",
        "vectorizer.save('/content/drive/My Drive/Colab Notebooks/Bigdata/Vectorizer')\n",
        "idf_model.save('/content/drive/My Drive/Colab Notebooks/Bigdata/idf')\n",
        "scalerModel.save('/content/drive/My Drive/Colab Notebooks/Bigdata/scalerModel')"
      ],
      "execution_count": 0,
      "outputs": []
    },
    {
      "cell_type": "code",
      "metadata": {
        "id": "IDZAmWcCf-6z",
        "colab_type": "code",
        "colab": {}
      },
      "source": [
        ""
      ],
      "execution_count": 0,
      "outputs": []
    },
    {
      "cell_type": "markdown",
      "metadata": {
        "id": "iqu5EtHju_Ze",
        "colab_type": "text"
      },
      "source": [
        "# Test predictions"
      ]
    },
    {
      "cell_type": "code",
      "metadata": {
        "id": "ufTcVSkcvjXD",
        "colab_type": "code",
        "colab": {
          "base_uri": "https://localhost:8080/",
          "height": 199
        },
        "outputId": "89a3f8c5-40b0-4de5-8565-431f8d6e6912"
      },
      "source": [
        "queries = sc.parallelize(['Alice','bigdata',\"hellworld\",\"select* from students where '1'='1\",\"<sctipt></sctipt>\"]).map(lambda q: Row(payload=q))\n",
        "sample_df = sqlc.createDataFrame(queries)\n",
        "\n",
        "sample_df = sample_df.withColumn('ngrams', ngrams(sample_df['payload']))\n",
        "sample_df = tokenizer.transform(sample_df)\n",
        "sample_df = vectorizer.transform(sample_df)\n",
        "sample_df = idf_model.transform(sample_df)\n",
        "sample_df = scalerModel.transform(sample_df).cache()\n",
        "preds = model.bestModel.transform(sample_df)\n",
        "sample_df.select('payload','scaledFeatures').show()\n"
      ],
      "execution_count": 120,
      "outputs": [
        {
          "output_type": "stream",
          "text": [
            "+--------------------+--------------------+\n",
            "|             payload|      scaledFeatures|\n",
            "+--------------------+--------------------+\n",
            "|               Alice|(4472,[34,42,53,1...|\n",
            "|             bigdata|(4472,[24,43,169,...|\n",
            "|           hellworld|(4472,[23,75,86,9...|\n",
            "|select* from stud...|(4472,[0,13,17,19...|\n",
            "|   <sctipt></sctipt>|(4472,[3,6,7,27,1...|\n",
            "+--------------------+--------------------+\n",
            "\n"
          ],
          "name": "stdout"
        }
      ]
    },
    {
      "cell_type": "code",
      "metadata": {
        "id": "buxDIXn6zVME",
        "colab_type": "code",
        "colab": {
          "base_uri": "https://localhost:8080/",
          "height": 199
        },
        "outputId": "86318e88-5607-40c3-8e3b-9f79bea1aa56"
      },
      "source": [
        "preds = model.bestModel.transform(sample_df)\n",
        "preds.select('payload','prediction').show(truncate=False)"
      ],
      "execution_count": 119,
      "outputs": [
        {
          "output_type": "stream",
          "text": [
            "+----------------------------------+----------+\n",
            "|payload                           |prediction|\n",
            "+----------------------------------+----------+\n",
            "|Alice                             |0.0       |\n",
            "|bigdata                           |0.0       |\n",
            "|hellworld                         |0.0       |\n",
            "|select* from students where '1'='1|1.0       |\n",
            "|<sctipt></sctipt>                 |1.0       |\n",
            "+----------------------------------+----------+\n",
            "\n"
          ],
          "name": "stdout"
        }
      ]
    },
    {
      "cell_type": "code",
      "metadata": {
        "id": "nKJoH0Ig3vtE",
        "colab_type": "code",
        "colab": {}
      },
      "source": [
        ""
      ],
      "execution_count": 0,
      "outputs": []
    },
    {
      "cell_type": "code",
      "metadata": {
        "id": "PUR3wCYL3RuB",
        "colab_type": "code",
        "colab": {}
      },
      "source": [
        ""
      ],
      "execution_count": 0,
      "outputs": []
    }
  ]
}