{
 "cells": [
  {
   "cell_type": "code",
   "execution_count": 1,
   "metadata": {},
   "outputs": [
    {
     "data": {
      "text/html": [
       "\n",
       "        <div>\n",
       "            <p><b>SparkContext</b></p>\n",
       "\n",
       "            <p><a href=\"http://192.168.90.4:4040\">Spark UI</a></p>\n",
       "\n",
       "            <dl>\n",
       "              <dt>Version</dt>\n",
       "                <dd><code>v2.4.0</code></dd>\n",
       "              <dt>Master</dt>\n",
       "                <dd><code>local[*]</code></dd>\n",
       "              <dt>AppName</dt>\n",
       "                <dd><code>PySparkShell</code></dd>\n",
       "            </dl>\n",
       "        </div>\n",
       "        "
      ],
      "text/plain": [
       "<SparkContext master=local[*] appName=PySparkShell>"
      ]
     },
     "execution_count": 1,
     "metadata": {},
     "output_type": "execute_result"
    }
   ],
   "source": [
    "from pyspark import SparkContext\n",
    "from pyspark.mllib.feature import HashingTF, IDF\n",
    "from pyspark.mllib.regression import LabeledPoint\n",
    "from urllib.parse import unquote\n",
    "sc"
   ]
  },
  {
   "cell_type": "code",
   "execution_count": 2,
   "metadata": {},
   "outputs": [],
   "source": [
    "#Creating RDDs\n",
    "good = sc.textFile(\"goodqueries.txt\").map(lambda line: unquote(line)).distinct()\n",
    "bad = sc.textFile(\"badqueries.txt\").map(lambda line: unquote(line)).distinct()"
   ]
  },
  {
   "cell_type": "code",
   "execution_count": 3,
   "metadata": {},
   "outputs": [
    {
     "name": "stdout",
     "output_type": "stream",
     "text": [
      "Amount of entries\n"
     ]
    },
    {
     "data": {
      "text/plain": [
       "1310506"
      ]
     },
     "execution_count": 3,
     "metadata": {},
     "output_type": "execute_result"
    }
   ],
   "source": [
    "print('Amount of entries')\n",
    "good.count()+bad.count()"
   ]
  },
  {
   "cell_type": "markdown",
   "metadata": {},
   "source": [
    "# Preprocess Data\n",
    "## Feature extarcting\n",
    "models can't evaluate string so we will want to turn the string into numerical vectors using the HashingTF and IDF provided by spark. First of all, words won't helps in http queries so we will turn each query into bigrams to exapnad the and treating each by gram as a word. This approach will expand the word bucket and the feature space.An Example for bigram is given below.\n"
   ]
  },
  {
   "cell_type": "code",
   "execution_count": 4,
   "metadata": {},
   "outputs": [
    {
     "name": "stdout",
     "output_type": "stream",
     "text": [
      "EXAMPLE: bigram of the word <script>:\n"
     ]
    },
    {
     "data": {
      "text/plain": [
       "['<s', 'sc', 'cr', 'ri', 'ip', 'pt', 't>']"
      ]
     },
     "execution_count": 4,
     "metadata": {},
     "output_type": "execute_result"
    }
   ],
   "source": [
    "def to_ngram(payload_obj,n=1):\n",
    "    payload = str(payload_obj)\n",
    "    ngrams = []\n",
    "    for i in range(0,len(payload)-n+1):\n",
    "        ngrams.append(payload[i:i+n])\n",
    "    return ngrams\n",
    "\n",
    "print('EXAMPLE: bigram of the word <script>:')\n",
    "to_ngram(\"<script>\",2)"
   ]
  },
  {
   "cell_type": "code",
   "execution_count": 5,
   "metadata": {},
   "outputs": [],
   "source": [
    "n = 2 #bigram\n",
    "good_ngrams = good.map(lambda query: to_ngram(query,n))\n",
    "bad_ngrams = bad.map(lambda query: to_ngram(query,n))"
   ]
  },
  {
   "cell_type": "markdown",
   "metadata": {},
   "source": [
    "###### Hashing each query into 2,000 word bucket.\n",
    "As you can see, each query is turned into a sparse vector holding bucket numbers and occurrences this vector will be used as a feature vector input for our models\n",
    "###### pyspark mllib models needs LabeledPoint as an input \n",
    "So, the next step is to label our features: 1 for bad query, 0 for good query. The result is a collected of labeled samples which are ready for use.\n"
   ]
  },
  {
   "cell_type": "code",
   "execution_count": 6,
   "metadata": {},
   "outputs": [],
   "source": [
    "numFeatures = 2000\n",
    "hashingTF = HashingTF(numFeatures = numFeatures)"
   ]
  },
  {
   "cell_type": "code",
   "execution_count": 7,
   "metadata": {},
   "outputs": [
    {
     "name": "stdout",
     "output_type": "stream",
     "text": [
      "feature vector: ((2000,[104,136,201,744,1289,1511,1556,1683],[0.7005679684456778,1.1262072621936845,1.2943791186220295,0.6910471473539014,1.2513543383584065,0.014944590529120573,0.868974984310208,0.9827909772435368]),0.0)\n"
     ]
    }
   ],
   "source": [
    "# Hashing\n",
    "good_tf = hashingTF.transform(good)\n",
    "bad_tf = hashingTF.transform(bad)\n",
    "\n",
    "good_tf.cache()\n",
    "bad_tf.cache()\n",
    "\n",
    "# get TF-IDF\n",
    "idf = IDF().fit(good_tf.union(bad_tf))\n",
    "good_tfidf = idf.transform(good_tf).map(lambda x: LabeledPoint(0.0, x))\n",
    "bad_tfidf = idf.transform(bad_tf).map(lambda x: LabeledPoint(1.0, x))\n",
    "\n",
    "good_tfidf.cache()\n",
    "bad_tfidf.cache()\n",
    "\n",
    "example_input = good_tfidf.take(1)[0]\n",
    "print(f'feature vector: ({example_input.features},{example_input.label})')\n"
   ]
  },
  {
   "cell_type": "markdown",
   "metadata": {},
   "source": [
    "# Data Visualisation\n",
    "To help us understand better the data we want to see if theres any diffrences between the points that are labled as an attack with others.So, we will use the PCA algorithm, a dimension reduction method to help us plot the points on 2 dimenssional space.\n",
    "\n",
    "## First step is to scale the data points"
   ]
  },
  {
   "cell_type": "code",
   "execution_count": 8,
   "metadata": {},
   "outputs": [],
   "source": [
    "from pyspark.mllib.feature import StandardScaler\n",
    "from pyspark.mllib.linalg import Vectors\n",
    "\n",
    "data = good_tfidf.union(bad_tfidf)\n",
    "label = data.map(lambda x: x.label)\n",
    "features = data.map(lambda x: x.features)\n",
    "\n",
    "scaler1 = StandardScaler().fit(features)\n",
    "norm_data = scaler1.transform(features)\n"
   ]
  },
  {
   "cell_type": "markdown",
   "metadata": {},
   "source": [
    "# PCA - 2 Principal Components"
   ]
  },
  {
   "cell_type": "code",
   "execution_count": 9,
   "metadata": {},
   "outputs": [],
   "source": [
    "from pyspark.mllib.linalg import Vectors\n",
    "from pyspark.mllib.linalg.distributed import RowMatrix\n",
    "import numpy as np\n",
    "\n",
    "\n",
    "mat = RowMatrix(norm_data)\n",
    "pc = mat.computePrincipalComponents(2)\n",
    "projected = mat.multiply(pc)\n",
    "\n",
    "\n",
    "to_plot = label.zip(projected.rows).map(lambda row: [row[0],row[1][0],row[1][1]]).collect()\n",
    "to_plotX = np.array([x[1:] for x in to_plot if x[0] == 0.0]).T\n",
    "to_plotY = np.array([x[1:] for x in to_plot if x[0] == 1.0]).T\n"
   ]
  },
  {
   "cell_type": "markdown",
   "metadata": {},
   "source": [
    "# Visualize Results"
   ]
  },
  {
   "cell_type": "code",
   "execution_count": 39,
   "metadata": {},
   "outputs": [
    {
     "data": {
      "image/png": "[encoded data removed]",
      "text/plain": [
       "<Figure size 576x576 with 1 Axes>"
      ]
     },
     "metadata": {
      "needs_background": "light"
     },
     "output_type": "display_data"
    }
   ],
   "source": [
    "from matplotlib import pyplot as plt\n",
    "\n",
    "fig = plt.figure(figsize = (8,8))\n",
    "ax = fig.add_subplot(1,1,1) \n",
    "ax.set_xlabel('PC 1', fontsize = 15)\n",
    "ax.set_ylabel('PC 2', fontsize = 15)\n",
    "ax.set_title('2 component PCA', fontsize = 20)\n",
    "\n",
    "targets = ['Attack','Normal']\n",
    "ax.axis([-100, 5, -3, 10])\n",
    "ax.scatter(to_plotY[0]\n",
    "               , to_plotY[1]\n",
    "               , c = 'r',alpha=0.4)\n",
    "ax.scatter(to_plotX[0]\n",
    "               , to_plotX[1]\n",
    "               , c = 'b'\n",
    "              ,alpha=0.4)\n",
    "\n",
    "ax.legend(targets)\n",
    "ax.grid()"
   ]
  },
  {
   "cell_type": "markdown",
   "metadata": {},
   "source": [
    "From the graph above we can see that anomalous queries usually turns into an outliered points and normal queries usually stay on the same extents. Therefore we can use sparks MLlib models to help us achieve our goal.\n",
    "\n",
    "##### To proceed from here we will need to save the points so we can restore the bag of words for future use."
   ]
  },
  {
   "cell_type": "code",
   "execution_count": 11,
   "metadata": {},
   "outputs": [],
   "source": [
    "\n",
    "import pickle\n",
    "\n",
    "good_tf.union(bad_tf).saveAsTextFile(\"./data/htfVectors\")\n",
    "# sc.textFile(\"/data/HashedTF_Vectors\").map(Vectors.parse)\n",
    "\n",
    "with open('./data/hashedTF.pickle', 'wb') as f:\n",
    "    pickle.dump(hashingTF, f)\n"
   ]
  },
  {
   "cell_type": "markdown",
   "metadata": {},
   "source": [
    "# Train & Evaluate\n",
    "### Selected models:\n",
    " 1. NaiveBayes\n",
    " 2. LogisticRegression\n",
    " 3. SVM\n",
    " 4. RandomForest"
   ]
  },
  {
   "cell_type": "code",
   "execution_count": 12,
   "metadata": {},
   "outputs": [],
   "source": [
    "from pyspark.mllib.classification import LogisticRegressionWithLBFGS, LogisticRegressionModel\n",
    "from pyspark.mllib.classification import NaiveBayes, SVMWithSGD, SVMModel\n",
    "from pyspark.mllib.tree import RandomForest, RandomForestModel\n",
    "from pyspark.mllib.evaluation import MulticlassMetrics"
   ]
  },
  {
   "cell_type": "code",
   "execution_count": 15,
   "metadata": {},
   "outputs": [],
   "source": [
    "# Split Data into train set and test set\n",
    "[training_data, test_data] = good_tfidf.union(bad_tfidf).randomSplit([0.8, 0.2])\n",
    "training_data.cache()\n",
    "test_data.cache()\n",
    "\n",
    "#helper functions:\n",
    "\n",
    "def evaluate(name,model,test_data,params=None):\n",
    "    labels = test_data.map(lambda d: d.label)\n",
    "    features = test_data.map(lambda d: d.features)\n",
    "    predictions = model.predict(features).map(lambda x: float(x))\n",
    "    predictionsAndLabels = predictions.zip(labels)\n",
    "        \n",
    "    metrics = MulticlassMetrics(predictionsAndLabels)\n",
    "\n",
    "    precision = metrics.precision()\n",
    "    recall = metrics.recall()\n",
    "    f1Score = metrics.fMeasure()\n",
    "    accuracy = metrics.accuracy\n",
    "    \n",
    "    print(name) \n",
    "    if params is not None:\n",
    "        print(f'parmas: [\\n{params}\\n]\\n')      \n",
    "    print('summary:')\n",
    "    print(f'\\nPrecision = {precision}\\nRecall = {recall}\\nF1 Score = {f1Score}\\nAccuracy = {accuracy}\\n')\n",
    "    print('Confusion Matrix:\\n')\n",
    "    print(metrics.confusionMatrix().toArray())\n",
    "    \n",
    "\n",
    "def save_model(path, model):\n",
    "    model.save(sc, path)\n",
    "\n"
   ]
  },
  {
   "cell_type": "markdown",
   "metadata": {},
   "source": [
    "# Naive Bayes Classifier Model"
   ]
  },
  {
   "cell_type": "code",
   "execution_count": 16,
   "metadata": {},
   "outputs": [
    {
     "name": "stdout",
     "output_type": "stream",
     "text": [
      "Naive Bayes Classifier\n",
      "parmas: [\n",
      "lambda_=1.0\n",
      "]\n",
      "\n",
      "summary:\n",
      "\n",
      "Precision = 0.9873348522845434\n",
      "Recall = 0.9873348522845434\n",
      "F1 Score = 0.9873348522845434\n",
      "Accuracy = 0.9873348522845434\n",
      "\n",
      "Confusion Matrix:\n",
      "\n",
      "[[251576.   1097.]\n",
      " [  2216.   6695.]]\n"
     ]
    }
   ],
   "source": [
    "name = \"Naive Bayes Classifier\"\n",
    "params = 'lambda_=1.0'\n",
    "nvc = NaiveBayes.train(training_data)\n",
    "evaluate(name, nvc, test_data, params=params.replace(\",\",\"\\n\"))\n",
    "save_model('./models/' + name.replace(\" \",\"_\"), nvc)"
   ]
  },
  {
   "cell_type": "markdown",
   "metadata": {},
   "source": [
    "# Logistic Regression Model"
   ]
  },
  {
   "cell_type": "code",
   "execution_count": 17,
   "metadata": {},
   "outputs": [
    {
     "name": "stdout",
     "output_type": "stream",
     "text": [
      "Logistic Regression\n",
      "parmas: [\n",
      "iterations=100\n",
      " initialWeights=None\n",
      " regParam=0.001\n",
      " regType='l2'\n",
      " intercept=False\n",
      " corrections=10\n",
      " tolerance=1e-06\n",
      " validateData=True\n",
      " numClasses=2\n",
      "]\n",
      "\n",
      "summary:\n",
      "\n",
      "Precision = 0.9896973821028809\n",
      "Recall = 0.9896973821028809\n",
      "F1 Score = 0.9896973821028809\n",
      "Accuracy = 0.9896973821028809\n",
      "\n",
      "Confusion Matrix:\n",
      "\n",
      "[[251928.    745.]\n",
      " [  1950.   6961.]]\n"
     ]
    }
   ],
   "source": [
    "name = 'Logistic Regression'\n",
    "params = \"iterations=100, initialWeights=None, regParam=0.001, regType='l2', intercept=False, corrections=10, tolerance=1e-06, validateData=True, numClasses=2\"\n",
    "\n",
    "logreg = LogisticRegressionWithLBFGS.train(training_data,regParam=0.001)\n",
    "\n",
    "evaluate(name, logreg, test_data, params=params.replace(\",\",\"\\n\"))\n",
    "save_model('./models/' + name.replace(\" \",\"_\"), logreg)"
   ]
  },
  {
   "cell_type": "markdown",
   "metadata": {},
   "source": [
    "# SVM Model"
   ]
  },
  {
   "cell_type": "code",
   "execution_count": 18,
   "metadata": {},
   "outputs": [
    {
     "name": "stdout",
     "output_type": "stream",
     "text": [
      "SVM Model\n",
      "parmas: [\n",
      "iterations=100\n",
      "step=1.0\n",
      "regParam=0.01\n",
      "miniBatchFraction=1.0\n",
      "initialWeights=None\n",
      "regType='l2'\n",
      "intercept=False\n",
      "validateData=True\n",
      "convergenceTol=0.001\n",
      "]\n",
      "\n",
      "summary:\n",
      "\n",
      "Precision = 0.9891239525353233\n",
      "Recall = 0.9891239525353233\n",
      "F1 Score = 0.9891239525353233\n",
      "Accuracy = 0.9891239525353233\n",
      "\n",
      "Confusion Matrix:\n",
      "\n",
      "[[252142.    531.]\n",
      " [  2314.   6597.]]\n"
     ]
    }
   ],
   "source": [
    "name = 'SVM Model'\n",
    "params = \"iterations=100,step=1.0,regParam=0.01,miniBatchFraction=1.0,initialWeights=None,regType='l2',intercept=False,validateData=True,convergenceTol=0.001\"\n",
    "svm = SVMWithSGD.train(training_data, iterations=100)\n",
    "evaluate(name, svm, test_data, params=params.replace(\",\",\"\\n\"))\n",
    "save_model('./models/' + name.replace(\" \",\"_\"), svm)"
   ]
  },
  {
   "cell_type": "markdown",
   "metadata": {},
   "source": [
    "# Random Forest Model"
   ]
  },
  {
   "cell_type": "code",
   "execution_count": 33,
   "metadata": {},
   "outputs": [
    {
     "name": "stdout",
     "output_type": "stream",
     "text": [
      "Random Forest\n",
      "parmas: [\n",
      "numClasses=2\n",
      " categoricalFeaturesInfo={}\n",
      "numTrees=60\n",
      " featureSubsetStrategy='auto'\n",
      "impurity='gini'\n",
      " maxDepth=30\n",
      " maxBins=32\n",
      "]\n",
      "\n",
      "summary:\n",
      "\n",
      "Precision = 0.9779611902868677\n",
      "Recall = 0.9779611902868677\n",
      "F1 Score = 0.9779611902868677\n",
      "Accuracy = 0.9779611902868677\n",
      "\n",
      "Confusion Matrix:\n",
      "\n",
      "[[252673.      0.]\n",
      " [  5765.   3146.]]\n"
     ]
    }
   ],
   "source": [
    "name = 'Random Forest'\n",
    "params = \"numClasses=2, categoricalFeaturesInfo={},numTrees=60, featureSubsetStrategy='auto',impurity='gini', maxDepth=30, maxBins=32\"\n",
    "\n",
    "rf = RandomForest.trainClassifier(\n",
    "    training_data,\n",
    "    numClasses=2,\n",
    "    categoricalFeaturesInfo={},\n",
    "    numTrees=64, \n",
    "    featureSubsetStrategy=\"auto\",\n",
    "    impurity='gini',\n",
    "    maxDepth=30,\n",
    "    maxBins=64,\n",
    "    seed =42\n",
    ")\n",
    "\n",
    "evaluate(name, rf, test_data, params=params.replace(\",\",\"\\n\"))\n",
    "save_model('./models/' + name.replace(\" \",\"_\"), rf)"
   ]
  },
  {
   "cell_type": "markdown",
   "metadata": {},
   "source": [
    "# Summary\n",
    "As we can see the models that performed well and have the best score were the SVM , and Logistic Regression Model"
   ]
  },
  {
   "cell_type": "code",
   "execution_count": 30,
   "metadata": {},
   "outputs": [],
   "source": []
  },
  {
   "cell_type": "code",
   "execution_count": null,
   "metadata": {},
   "outputs": [],
   "source": []
  }
 ],
 "metadata": {
  "kernelspec": {
   "display_name": "Python 3",
   "language": "python",
   "name": "python3"
  },
  "language_info": {
   "codemirror_mode": {
    "name": "ipython",
    "version": 3
   },
   "file_extension": ".py",
   "mimetype": "text/x-python",
   "name": "python",
   "nbconvert_exporter": "python",
   "pygments_lexer": "ipython3",
   "version": "3.7.3"
  }
 },
 "nbformat": 4,
 "nbformat_minor": 2
}
