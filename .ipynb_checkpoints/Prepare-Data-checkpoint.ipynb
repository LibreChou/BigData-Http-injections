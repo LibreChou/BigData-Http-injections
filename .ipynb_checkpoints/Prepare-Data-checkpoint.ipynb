{
 "cells": [
  {
   "cell_type": "code",
   "execution_count": 1,
   "metadata": {},
   "outputs": [],
   "source": [
    "import pandas as pd"
   ]
  },
  {
   "cell_type": "markdown",
   "metadata": {},
   "source": [
    "# Load Dataset\n",
    "    \n",
    "### Bad queries payloads"
   ]
  },
  {
   "cell_type": "code",
   "execution_count": 5,
   "metadata": {},
   "outputs": [],
   "source": [
    "def read_file(path):\n",
    "    payload = []\n",
    "    with open(path,'r',encoding='utf8') as f:\n",
    "        for line in f:\n",
    "            payload.append(line[:-1]) #remove '\\n'\n",
    "    return payload"
   ]
  },
  {
   "cell_type": "code",
   "execution_count": 6,
   "metadata": {},
   "outputs": [],
   "source": [
    "df_badQueries = pd.DataFrame(columns = ['payload','is_malicious'])\n",
    "df_badQueries['payload'] = read_file('./badqueries.txt')\n",
    "df_badQueries['is_malicious'] = 1 "
   ]
  },
  {
   "cell_type": "code",
   "execution_count": 7,
   "metadata": {},
   "outputs": [
    {
     "data": {
      "text/html": [
       "<div>\n",
       "<style scoped>\n",
       "    .dataframe tbody tr th:only-of-type {\n",
       "        vertical-align: middle;\n",
       "    }\n",
       "\n",
       "    .dataframe tbody tr th {\n",
       "        vertical-align: top;\n",
       "    }\n",
       "\n",
       "    .dataframe thead th {\n",
       "        text-align: right;\n",
       "    }\n",
       "</style>\n",
       "<table border=\"1\" class=\"dataframe\">\n",
       "  <thead>\n",
       "    <tr style=\"text-align: right;\">\n",
       "      <th></th>\n",
       "      <th>payload</th>\n",
       "      <th>is_malicious</th>\n",
       "    </tr>\n",
       "  </thead>\n",
       "  <tbody>\n",
       "    <tr>\n",
       "      <th>48116</th>\n",
       "      <td>&lt;script&gt;eval(location.hash.slice(1)&lt;/script&gt;</td>\n",
       "      <td>1</td>\n",
       "    </tr>\n",
       "    <tr>\n",
       "      <th>48117</th>\n",
       "      <td>&lt;base href=data:/,-alert(1)/&gt;</td>\n",
       "      <td>1</td>\n",
       "    </tr>\n",
       "    <tr>\n",
       "      <th>48118</th>\n",
       "      <td>&lt;svg&gt;&lt;set href=#script attributeName=href to=d...</td>\n",
       "      <td>1</td>\n",
       "    </tr>\n",
       "    <tr>\n",
       "      <th>48119</th>\n",
       "      <td>“/&gt;.&lt;&lt;img src=x onerror=alert(1)//\\\"&amp;gt;&gt;&amp;lt;&amp;gt</td>\n",
       "      <td>1</td>\n",
       "    </tr>\n",
       "    <tr>\n",
       "      <th>48120</th>\n",
       "      <td>“&gt;&gt;&lt;&lt;img src=x onerror=alert(1);//&gt;&gt;;</td>\n",
       "      <td>1</td>\n",
       "    </tr>\n",
       "    <tr>\n",
       "      <th>48121</th>\n",
       "      <td>\"text &lt;/script&gt;&lt;script&gt;alert(1)&lt;/script&gt;\"</td>\n",
       "      <td>1</td>\n",
       "    </tr>\n",
       "    <tr>\n",
       "      <th>48122</th>\n",
       "      <td>&lt;marquee loop=1 width=0 onfinish=1/confirm`/1/...</td>\n",
       "      <td>1</td>\n",
       "    </tr>\n",
       "    <tr>\n",
       "      <th>48123</th>\n",
       "      <td>&lt;marquee loop=1 width=0 onfinish=confirm(1)&gt;0&lt;...</td>\n",
       "      <td>1</td>\n",
       "    </tr>\n",
       "    <tr>\n",
       "      <th>48124</th>\n",
       "      <td>&lt;abeon style=font-size:12px onmouseover=confir...</td>\n",
       "      <td>1</td>\n",
       "    </tr>\n",
       "    <tr>\n",
       "      <th>48125</th>\n",
       "      <td>&lt;svg onload=location='//p0.al'&gt;</td>\n",
       "      <td>1</td>\n",
       "    </tr>\n",
       "  </tbody>\n",
       "</table>\n",
       "</div>"
      ],
      "text/plain": [
       "                                                 payload  is_malicious\n",
       "48116       <script>eval(location.hash.slice(1)</script>             1\n",
       "48117                      <base href=data:/,-alert(1)/>             1\n",
       "48118  <svg><set href=#script attributeName=href to=d...             1\n",
       "48119   “/>.<<img src=x onerror=alert(1)//\\\"&gt;>&lt;&gt             1\n",
       "48120              “>><<img src=x onerror=alert(1);//>>;             1\n",
       "48121          \"text </script><script>alert(1)</script>\"             1\n",
       "48122  <marquee loop=1 width=0 onfinish=1/confirm`/1/...             1\n",
       "48123  <marquee loop=1 width=0 onfinish=confirm(1)>0<...             1\n",
       "48124  <abeon style=font-size:12px onmouseover=confir...             1\n",
       "48125                    <svg onload=location='//p0.al'>             1"
      ]
     },
     "execution_count": 7,
     "metadata": {},
     "output_type": "execute_result"
    }
   ],
   "source": [
    "df_badQueries.tail(10)"
   ]
  },
  {
   "cell_type": "markdown",
   "metadata": {},
   "source": [
    "### Good queries payloads"
   ]
  },
  {
   "cell_type": "code",
   "execution_count": 8,
   "metadata": {},
   "outputs": [],
   "source": [
    "df_goodQueries = pd.DataFrame(columns = ['payload','is_malicious'])\n",
    "df_goodQueries['payload'] = read_file('./goodqueries.txt')\n",
    "df_goodQueries['is_malicious'] = 0\n",
    "df_goodQueries.in"
   ]
  },
  {
   "cell_type": "code",
   "execution_count": 9,
   "metadata": {},
   "outputs": [
    {
     "data": {
      "text/html": [
       "<div>\n",
       "<style scoped>\n",
       "    .dataframe tbody tr th:only-of-type {\n",
       "        vertical-align: middle;\n",
       "    }\n",
       "\n",
       "    .dataframe tbody tr th {\n",
       "        vertical-align: top;\n",
       "    }\n",
       "\n",
       "    .dataframe thead th {\n",
       "        text-align: right;\n",
       "    }\n",
       "</style>\n",
       "<table border=\"1\" class=\"dataframe\">\n",
       "  <thead>\n",
       "    <tr style=\"text-align: right;\">\n",
       "      <th></th>\n",
       "      <th>payload</th>\n",
       "      <th>is_malicious</th>\n",
       "    </tr>\n",
       "  </thead>\n",
       "  <tbody>\n",
       "    <tr>\n",
       "      <th>1294521</th>\n",
       "      <td>/marrying_gifts/</td>\n",
       "      <td>0</td>\n",
       "    </tr>\n",
       "    <tr>\n",
       "      <th>1294522</th>\n",
       "      <td>/mir_download/</td>\n",
       "      <td>0</td>\n",
       "    </tr>\n",
       "    <tr>\n",
       "      <th>1294523</th>\n",
       "      <td>/20050308145407/</td>\n",
       "      <td>0</td>\n",
       "    </tr>\n",
       "    <tr>\n",
       "      <th>1294524</th>\n",
       "      <td>/javascript/migrated.html</td>\n",
       "      <td>0</td>\n",
       "    </tr>\n",
       "    <tr>\n",
       "      <th>1294525</th>\n",
       "      <td>/ms06-054/</td>\n",
       "      <td>0</td>\n",
       "    </tr>\n",
       "    <tr>\n",
       "      <th>1294526</th>\n",
       "      <td>/197573/</td>\n",
       "      <td>0</td>\n",
       "    </tr>\n",
       "    <tr>\n",
       "      <th>1294527</th>\n",
       "      <td>/javascript/management.php</td>\n",
       "      <td>0</td>\n",
       "    </tr>\n",
       "    <tr>\n",
       "      <th>1294528</th>\n",
       "      <td>/javascript/minute.csproj</td>\n",
       "      <td>0</td>\n",
       "    </tr>\n",
       "    <tr>\n",
       "      <th>1294529</th>\n",
       "      <td>/tex-lg/</td>\n",
       "      <td>0</td>\n",
       "    </tr>\n",
       "    <tr>\n",
       "      <th>1294530</th>\n",
       "      <td>/javascript/42.tar.gz</td>\n",
       "      <td>0</td>\n",
       "    </tr>\n",
       "  </tbody>\n",
       "</table>\n",
       "</div>"
      ],
      "text/plain": [
       "                            payload  is_malicious\n",
       "1294521            /marrying_gifts/             0\n",
       "1294522              /mir_download/             0\n",
       "1294523            /20050308145407/             0\n",
       "1294524   /javascript/migrated.html             0\n",
       "1294525                  /ms06-054/             0\n",
       "1294526                    /197573/             0\n",
       "1294527  /javascript/management.php             0\n",
       "1294528   /javascript/minute.csproj             0\n",
       "1294529                    /tex-lg/             0\n",
       "1294530       /javascript/42.tar.gz             0"
      ]
     },
     "execution_count": 9,
     "metadata": {},
     "output_type": "execute_result"
    }
   ],
   "source": [
    "df_goodQueries.tail(10)"
   ]
  },
  {
   "cell_type": "code",
   "execution_count": 12,
   "metadata": {},
   "outputs": [
    {
     "data": {
      "text/plain": [
       "1342657"
      ]
     },
     "execution_count": 12,
     "metadata": {},
     "output_type": "execute_result"
    }
   ],
   "source": [
    "# Total amount of entries\n",
    "len(df_badQueries) + len(df_goodQueries)"
   ]
  },
  {
   "cell_type": "markdown",
   "metadata": {},
   "source": [
    "# Creating s3 bucket using boto3\n",
    "    Bucket name: queries-dataset"
   ]
  },
  {
   "cell_type": "code",
   "execution_count": 14,
   "metadata": {},
   "outputs": [],
   "source": [
    "import boto3\n",
    "from botocore.exceptions import ClientError\n",
    "\n",
    "\n",
    "def create_bucket(bucket_name):\n",
    "    \"\"\"\n",
    "        Create an S3 bucket in a specified region\n",
    "        the bucket is created in the S3 default\n",
    "        region.\n",
    "\n",
    "        :param bucket_name: Bucket to create\n",
    "        \n",
    "        :return: True if bucket created, else False\n",
    "    \"\"\"\n",
    "    try:\n",
    "            s3_client = boto3.client('s3')\n",
    "            s3_client.create_bucket(Bucket=bucket_name)\n",
    "    except ClientError as e:\n",
    "        print(e)\n",
    "        print(f'{bucket_name} wasn\\'t created')\n",
    "        return\n",
    "    print(f'{bucket_name} was created')\n",
    "    \n",
    "    "
   ]
  },
  {
   "cell_type": "code",
   "execution_count": 15,
   "metadata": {
    "scrolled": true
   },
   "outputs": [
    {
     "name": "stdout",
     "output_type": "stream",
     "text": [
      "An error occurred (ExpiredToken) when calling the CreateBucket operation: The provided token has expired.\n",
      "queries-dataset wasn't created\n",
      "queries-dataset was created\n"
     ]
    }
   ],
   "source": [
    "create_bucket('queries-dataset')"
   ]
  },
  {
   "cell_type": "code",
   "execution_count": null,
   "metadata": {},
   "outputs": [],
   "source": []
  }
 ],
 "metadata": {
  "kernelspec": {
   "display_name": "Python 3",
   "language": "python",
   "name": "python3"
  },
  "language_info": {
   "codemirror_mode": {
    "name": "ipython",
    "version": 3
   },
   "file_extension": ".py",
   "mimetype": "text/x-python",
   "name": "python",
   "nbconvert_exporter": "python",
   "pygments_lexer": "ipython3",
   "version": "3.7.3"
  }
 },
 "nbformat": 4,
 "nbformat_minor": 2
}
