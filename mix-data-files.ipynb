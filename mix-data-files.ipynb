{
 "cells": [
  {
   "cell_type": "code",
   "execution_count": 1,
   "metadata": {},
   "outputs": [],
   "source": [
    "import random"
   ]
  },
  {
   "cell_type": "code",
   "execution_count": 2,
   "metadata": {},
   "outputs": [],
   "source": [
    "# Python program to \n",
    "# demonstrate merging \n",
    "# of two files \n",
    "  \n",
    "data = data2 = \"\" \n",
    "  \n",
    "# Reading data from file1 \n",
    "with open('data/badqueries.txt',encoding=\"utf8\") as fp: \n",
    "    data = fp.read() \n",
    "  \n",
    "# Reading data from file2 \n",
    "with open('data/goodqueries.txt',encoding=\"utf8\") as fp: \n",
    "    data2 = fp.read() \n",
    "  \n",
    "# Merging 2 files \n",
    "# To add the data of file2 \n",
    "# from next line \n",
    "data += \"\\n\"\n",
    "data += data2 \n",
    "\n",
    "with open ('data/mixedData.txt', 'w',encoding=\"utf8\") as fp: \n",
    "    fp.write(data) "
   ]
  },
  {
   "cell_type": "code",
   "execution_count": 3,
   "metadata": {},
   "outputs": [],
   "source": [
    "# Shuffle mixed file\n",
    "with open(\"data/mixedData.txt\",encoding=\"utf8\") as f:\n",
    "    lines = f.readlines()\n",
    "random.shuffle(lines)\n",
    "with open(\"data/mixedShuffleData.txt\", \"w\",encoding=\"utf8\") as f:\n",
    "    f.writelines(lines)"
   ]
  },
  {
   "cell_type": "code",
   "execution_count": null,
   "metadata": {},
   "outputs": [],
   "source": []
  }
 ],
 "metadata": {
  "kernelspec": {
   "display_name": "Python 3",
   "language": "python",
   "name": "python3"
  },
  "language_info": {
   "codemirror_mode": {
    "name": "ipython",
    "version": 3
   },
   "file_extension": ".py",
   "mimetype": "text/x-python",
   "name": "python",
   "nbconvert_exporter": "python",
   "pygments_lexer": "ipython3",
   "version": "3.7.4"
  }
 },
 "nbformat": 4,
 "nbformat_minor": 2
}
